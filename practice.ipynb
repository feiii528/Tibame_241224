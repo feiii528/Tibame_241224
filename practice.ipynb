{
  "nbformat": 4,
  "nbformat_minor": 0,
  "metadata": {
    "colab": {
      "provenance": [],
      "authorship_tag": "ABX9TyOcuPOzVKEjgip6JIrFyNd3",
      "include_colab_link": true
    },
    "kernelspec": {
      "name": "python3",
      "display_name": "Python 3"
    },
    "language_info": {
      "name": "python"
    }
  },
  "cells": [
    {
      "cell_type": "markdown",
      "metadata": {
        "id": "view-in-github",
        "colab_type": "text"
      },
      "source": [
        "<a href=\"https://colab.research.google.com/github/feiii528/Tibame_241224/blob/main/practice.ipynb\" target=\"_parent\"><img src=\"https://colab.research.google.com/assets/colab-badge.svg\" alt=\"Open In Colab\"/></a>"
      ]
    },
    {
      "cell_type": "markdown",
      "source": [
        "```python\n",
        "棒打老虎雞吃蟲\n",
        "\n",
        "```"
      ],
      "metadata": {
        "id": "S7313G3OfQXm"
      }
    },
    {
      "cell_type": "code",
      "execution_count": 20,
      "metadata": {
        "colab": {
          "base_uri": "https://localhost:8080/"
        },
        "id": "bj0mmjAbe7lD",
        "outputId": "f2572925-c55f-474b-e937-795d06caf75d"
      },
      "outputs": [
        {
          "output_type": "stream",
          "name": "stdout",
          "text": [
            "請輸入 0.棒 1.虎 2.雞 3.蟲:0\n",
            "我出的: 棒\n",
            "電腦出的: 虎\n",
            "WIN\n"
          ]
        }
      ],
      "source": [
        "import random\n",
        "\n",
        "my = int(input(\"請輸入 0.棒 1.虎 2.雞 3.蟲:\"))\n",
        "com = random.randint(0, 3)\n",
        "trans = [\"棒\", \"虎\", \"雞\", \"蟲\"]\n",
        "print(\"我出的:\", trans[my])\n",
        "print(\"電腦出的:\", trans[com])\n",
        "\n",
        "# 要循環的話是n+1(輪迴)\n",
        "if my == (com + 1) % 4:\n",
        "    print(\"LOSE\")\n",
        "elif com == (my + 1) % 4:\n",
        "    print(\"WIN\")\n",
        "else:\n",
        "    print(\"EVEN\")\n"
      ]
    },
    {
      "cell_type": "markdown",
      "source": [
        "**迴圈 第一章**"
      ],
      "metadata": {
        "id": "zfno7-YO4Eri"
      }
    },
    {
      "cell_type": "code",
      "source": [
        "i = 0\n",
        "while i < 10:\n",
        "    print(\"*\" * (i + 1),\n",
        "       \"*\" * (10 - i),\n",
        "       \" \" * (9 - i) + \"*\" * (i+1))\n",
        "    i = i + 1"
      ],
      "metadata": {
        "colab": {
          "base_uri": "https://localhost:8080/"
        },
        "id": "zRKF9WaLtXDf",
        "outputId": "ff8d5517-2b67-4297-8a7e-1c62d47ad8cb"
      },
      "execution_count": 43,
      "outputs": [
        {
          "output_type": "stream",
          "name": "stdout",
          "text": [
            "* **********          *\n",
            "** *********         **\n",
            "*** ********        ***\n",
            "**** *******       ****\n",
            "***** ******      *****\n",
            "****** *****     ******\n",
            "******* ****    *******\n",
            "******** ***   ********\n",
            "********* **  *********\n",
            "********** * **********\n"
          ]
        }
      ]
    },
    {
      "cell_type": "code",
      "source": [
        "left, right = \" \", \"o\"\n",
        "layer = 10\n",
        "i = 0\n",
        "while i < layer:\n",
        "    lcount = layer - i - 1\n",
        "    rcount = i + 1\n",
        "    print(left * lcount + right * rcount)\n",
        "    i = i + 1"
      ],
      "metadata": {
        "colab": {
          "base_uri": "https://localhost:8080/"
        },
        "id": "SR5x0wry1be8",
        "outputId": "fd4452d6-eb14-47cc-e6bd-7aa787e6634a"
      },
      "execution_count": 41,
      "outputs": [
        {
          "output_type": "stream",
          "name": "stdout",
          "text": [
            "         o\n",
            "        oo\n",
            "       ooo\n",
            "      oooo\n",
            "     ooooo\n",
            "    oooooo\n",
            "   ooooooo\n",
            "  oooooooo\n",
            " ooooooooo\n",
            "oooooooooo\n"
          ]
        }
      ]
    },
    {
      "cell_type": "code",
      "source": [
        "left, right = \" \", \"x\"\n",
        "layer = 10\n",
        "i = 0\n",
        "while i < layer:\n",
        "    lcount = i\n",
        "    rcount = layer - i\n",
        "    print(left * lcount + right * rcount)\n",
        "    i = i + 1"
      ],
      "metadata": {
        "colab": {
          "base_uri": "https://localhost:8080/"
        },
        "id": "iMyk8KX81egB",
        "outputId": "3b2f7061-6b49-4c5b-c29e-462804994e0d"
      },
      "execution_count": 42,
      "outputs": [
        {
          "output_type": "stream",
          "name": "stdout",
          "text": [
            "xxxxxxxxxx\n",
            " xxxxxxxxx\n",
            "  xxxxxxxx\n",
            "   xxxxxxx\n",
            "    xxxxxx\n",
            "     xxxxx\n",
            "      xxxx\n",
            "       xxx\n",
            "        xx\n",
            "         x\n"
          ]
        }
      ]
    },
    {
      "cell_type": "code",
      "source": [
        "# 3層->5; 4層->7; 5層->9\n",
        "left, mid, right = \" \", \"x\", \" \"\n",
        "layer = 10\n",
        "i = 0\n",
        "while i < layer:\n",
        "    lcount = i\n",
        "    mcount = (layer * 2 -1) - 2 * i\n",
        "    rcount = i\n",
        "    print(left * lcount +\n",
        "       mid * mcount +\n",
        "       right * rcount)\n",
        "    i = i + 1"
      ],
      "metadata": {
        "colab": {
          "base_uri": "https://localhost:8080/"
        },
        "id": "drjcbUKK1nHD",
        "outputId": "2d3ad2e9-8e19-4c45-d3d7-85c02ad1d234"
      },
      "execution_count": 53,
      "outputs": [
        {
          "output_type": "stream",
          "name": "stdout",
          "text": [
            "xxxxxxxxxxxxxxxxxxx\n",
            " xxxxxxxxxxxxxxxxx \n",
            "  xxxxxxxxxxxxxxx  \n",
            "   xxxxxxxxxxxxx   \n",
            "    xxxxxxxxxxx    \n",
            "     xxxxxxxxx     \n",
            "      xxxxxxx      \n",
            "       xxxxx       \n",
            "        xxx        \n",
            "         x         \n"
          ]
        }
      ]
    },
    {
      "cell_type": "markdown",
      "source": [
        "**迴圈 第二章**"
      ],
      "metadata": {
        "id": "x3Cl-Ekd4TPK"
      }
    },
    {
      "cell_type": "markdown",
      "source": [
        "```python\n",
        "從數字1加到數字10的總和\n",
        "```"
      ],
      "metadata": {
        "id": "YrVMyuk8HLrb"
      }
    },
    {
      "cell_type": "code",
      "source": [
        "total = 0\n",
        "i = 0\n",
        "while i < 10:\n",
        "    # 目前累積(6) + 這次要加(4) -> 設定回去\n",
        "    total = total + (i + 1)\n",
        "    print(total)\n",
        "    i = i +1"
      ],
      "metadata": {
        "colab": {
          "base_uri": "https://localhost:8080/"
        },
        "id": "cgF3UAMV4S40",
        "outputId": "533a015e-131d-408d-9355-ef3498a98c58"
      },
      "execution_count": 57,
      "outputs": [
        {
          "output_type": "stream",
          "name": "stdout",
          "text": [
            "1\n",
            "3\n",
            "6\n",
            "10\n",
            "15\n",
            "21\n",
            "28\n",
            "36\n",
            "45\n",
            "55\n"
          ]
        }
      ]
    },
    {
      "cell_type": "markdown",
      "source": [
        "```python\n",
        "練習: 2 / 7 -> 0.2857142857\n",
        "```"
      ],
      "metadata": {
        "id": "mk6CmzcBHT3p"
      }
    },
    {
      "cell_type": "code",
      "source": [
        "a, b = 2, 7\n",
        "ans = \"0.\"\n",
        "i = 0\n",
        "while i < 10:\n",
        "    # 2 -> 20 在除法時，不購時會補0\n",
        "    a10 = a * 10\n",
        "    # 20 // 7 取商數(//)\n",
        "    ans = ans + str(a10 // b)\n",
        "    print(ans)\n",
        "    # 20 % 7 取餘數(%)\n",
        "    a = a10 % b\n",
        "    i = i + 1"
      ],
      "metadata": {
        "colab": {
          "base_uri": "https://localhost:8080/"
        },
        "id": "co7fd_cWHcfr",
        "outputId": "681cc5ea-a240-4613-8241-233db65d654a"
      },
      "execution_count": 58,
      "outputs": [
        {
          "output_type": "stream",
          "name": "stdout",
          "text": [
            "0.2\n",
            "0.28\n",
            "0.285\n",
            "0.2857\n",
            "0.28571\n",
            "0.285714\n",
            "0.2857142\n",
            "0.28571428\n",
            "0.285714285\n",
            "0.2857142857\n"
          ]
        }
      ]
    },
    {
      "cell_type": "markdown",
      "source": [
        "```python\n",
        "機器人移動\n",
        "U: 上; D: 下\n",
        "L: 左; R: 右\n",
        "```"
      ],
      "metadata": {
        "id": "rt891qPzIAH7"
      }
    },
    {
      "cell_type": "code",
      "source": [
        "x, y = 0, 0\n",
        "# x = -2, y = 0\n",
        "commands = \"ULLRDL\"\n",
        "i = 0\n",
        "while i < len(commands):\n",
        "    c = commands[i]\n",
        "    if c == \"U\":\n",
        "        y = y + 1\n",
        "    elif c == \"D\":\n",
        "        y = y - 1\n",
        "    elif c == \"L\":\n",
        "        x = x - 1\n",
        "    elif c == \"R\":\n",
        "        x = x +1\n",
        "    # print(x, y)\n",
        "    i = i + 1\n",
        "print(x, y)"
      ],
      "metadata": {
        "colab": {
          "base_uri": "https://localhost:8080/"
        },
        "id": "tyUmkLCnIL7c",
        "outputId": "9ae5a09c-3485-4063-f747-52603d777392"
      },
      "execution_count": 68,
      "outputs": [
        {
          "output_type": "stream",
          "name": "stdout",
          "text": [
            "-2 0\n"
          ]
        }
      ]
    },
    {
      "cell_type": "markdown",
      "source": [
        "```python\n",
        "蒙地卡羅算面積\n",
        "求的面積: 半徑為1的圓(參照物面積:4)\n",
        "圓上: x^2 + y^2 = r^2 (1)\n",
        "圓內: x^2 + y^2 < r^2 (1)\n",
        "```"
      ],
      "metadata": {
        "id": "twJ3MALnPkxV"
      }
    },
    {
      "cell_type": "code",
      "source": [
        ""
      ],
      "metadata": {
        "id": "qViyjlgfPsc8"
      },
      "execution_count": null,
      "outputs": []
    }
  ]
}