{
  "nbformat": 4,
  "nbformat_minor": 0,
  "metadata": {
    "colab": {
      "provenance": [],
      "authorship_tag": "ABX9TyOgl8mRHc3SF5FTcdCWXDWi",
      "include_colab_link": true
    },
    "kernelspec": {
      "name": "python3",
      "display_name": "Python 3"
    },
    "language_info": {
      "name": "python"
    }
  },
  "cells": [
    {
      "cell_type": "markdown",
      "metadata": {
        "id": "view-in-github",
        "colab_type": "text"
      },
      "source": [
        "<a href=\"https://colab.research.google.com/github/feiii528/Tibame_241224/blob/main/practice.ipynb\" target=\"_parent\"><img src=\"https://colab.research.google.com/assets/colab-badge.svg\" alt=\"Open In Colab\"/></a>"
      ]
    },
    {
      "cell_type": "markdown",
      "source": [
        "```python\n",
        "棒打老虎雞吃蟲\n",
        "\n",
        "```"
      ],
      "metadata": {
        "id": "S7313G3OfQXm"
      }
    },
    {
      "cell_type": "code",
      "execution_count": null,
      "metadata": {
        "colab": {
          "base_uri": "https://localhost:8080/"
        },
        "id": "bj0mmjAbe7lD",
        "outputId": "f2572925-c55f-474b-e937-795d06caf75d"
      },
      "outputs": [
        {
          "output_type": "stream",
          "name": "stdout",
          "text": [
            "請輸入 0.棒 1.虎 2.雞 3.蟲:0\n",
            "我出的: 棒\n",
            "電腦出的: 虎\n",
            "WIN\n"
          ]
        }
      ],
      "source": [
        "import random\n",
        "\n",
        "my = int(input(\"請輸入 0.棒 1.虎 2.雞 3.蟲:\"))\n",
        "com = random.randint(0, 3)\n",
        "trans = [\"棒\", \"虎\", \"雞\", \"蟲\"]\n",
        "print(\"我出的:\", trans[my])\n",
        "print(\"電腦出的:\", trans[com])\n",
        "\n",
        "# 要循環的話是n+1(輪迴)\n",
        "if my == (com + 1) % 4:\n",
        "    print(\"LOSE\")\n",
        "elif com == (my + 1) % 4:\n",
        "    print(\"WIN\")\n",
        "else:\n",
        "    print(\"EVEN\")\n"
      ]
    },
    {
      "cell_type": "markdown",
      "source": [
        "#**迴圈**"
      ],
      "metadata": {
        "id": "rtqn9abdAfYp"
      }
    },
    {
      "cell_type": "markdown",
      "source": [
        "**迴圈 第一章**"
      ],
      "metadata": {
        "id": "zfno7-YO4Eri"
      }
    },
    {
      "cell_type": "code",
      "source": [
        "i = 0\n",
        "while i < 10:\n",
        "    print(\"*\" * (i + 1),\n",
        "       \"*\" * (10 - i),\n",
        "       \" \" * (9 - i) + \"*\" * (i+1))\n",
        "    i = i + 1"
      ],
      "metadata": {
        "colab": {
          "base_uri": "https://localhost:8080/"
        },
        "id": "zRKF9WaLtXDf",
        "outputId": "a51519b1-3164-4dc0-a791-287958da0c8f"
      },
      "execution_count": 34,
      "outputs": [
        {
          "output_type": "stream",
          "name": "stdout",
          "text": [
            "* **********          *\n",
            "** *********         **\n",
            "*** ********        ***\n",
            "**** *******       ****\n",
            "***** ******      *****\n",
            "****** *****     ******\n",
            "******* ****    *******\n",
            "******** ***   ********\n",
            "********* **  *********\n",
            "********** * **********\n"
          ]
        }
      ]
    },
    {
      "cell_type": "code",
      "source": [
        "left, right = \" \", \"o\"\n",
        "layer = 10\n",
        "i = 0\n",
        "while i < layer:\n",
        "    lcount = layer - i - 1\n",
        "    rcount = i + 1\n",
        "    print(left * lcount + right * rcount)\n",
        "    i = i + 1"
      ],
      "metadata": {
        "colab": {
          "base_uri": "https://localhost:8080/"
        },
        "id": "SR5x0wry1be8",
        "outputId": "6090452f-fe44-4b6c-e274-80dce2efa712"
      },
      "execution_count": 35,
      "outputs": [
        {
          "output_type": "stream",
          "name": "stdout",
          "text": [
            "         o\n",
            "        oo\n",
            "       ooo\n",
            "      oooo\n",
            "     ooooo\n",
            "    oooooo\n",
            "   ooooooo\n",
            "  oooooooo\n",
            " ooooooooo\n",
            "oooooooooo\n"
          ]
        }
      ]
    },
    {
      "cell_type": "code",
      "source": [
        "left, right = \" \", \"x\"\n",
        "layer = 10\n",
        "i = 0\n",
        "while i < layer:\n",
        "    lcount = i\n",
        "    rcount = layer - i\n",
        "    print(left * lcount + right * rcount)\n",
        "    i = i + 1"
      ],
      "metadata": {
        "colab": {
          "base_uri": "https://localhost:8080/"
        },
        "id": "iMyk8KX81egB",
        "outputId": "dfc622d8-92ee-4f01-8742-838e3eeb3a0d"
      },
      "execution_count": 36,
      "outputs": [
        {
          "output_type": "stream",
          "name": "stdout",
          "text": [
            "xxxxxxxxxx\n",
            " xxxxxxxxx\n",
            "  xxxxxxxx\n",
            "   xxxxxxx\n",
            "    xxxxxx\n",
            "     xxxxx\n",
            "      xxxx\n",
            "       xxx\n",
            "        xx\n",
            "         x\n"
          ]
        }
      ]
    },
    {
      "cell_type": "code",
      "source": [
        "# 3層->5; 4層->7; 5層->9\n",
        "left, mid, right = \" \", \"x\", \" \"\n",
        "layer = 10\n",
        "i = 0\n",
        "while i < layer:\n",
        "    lcount = i\n",
        "    mcount = (layer * 2 -1) - 2 * i\n",
        "    rcount = i\n",
        "    print(left * lcount +\n",
        "       mid * mcount +\n",
        "       right * rcount)\n",
        "    i = i + 1"
      ],
      "metadata": {
        "colab": {
          "base_uri": "https://localhost:8080/"
        },
        "id": "drjcbUKK1nHD",
        "outputId": "f4d0f56e-67b9-434b-ba48-ca88fc1e619c"
      },
      "execution_count": 37,
      "outputs": [
        {
          "output_type": "stream",
          "name": "stdout",
          "text": [
            "xxxxxxxxxxxxxxxxxxx\n",
            " xxxxxxxxxxxxxxxxx \n",
            "  xxxxxxxxxxxxxxx  \n",
            "   xxxxxxxxxxxxx   \n",
            "    xxxxxxxxxxx    \n",
            "     xxxxxxxxx     \n",
            "      xxxxxxx      \n",
            "       xxxxx       \n",
            "        xxx        \n",
            "         x         \n"
          ]
        }
      ]
    },
    {
      "cell_type": "markdown",
      "source": [
        "**迴圈 第二章**"
      ],
      "metadata": {
        "id": "x3Cl-Ekd4TPK"
      }
    },
    {
      "cell_type": "markdown",
      "source": [
        "```python\n",
        "從數字1加到數字10的總和\n",
        "```"
      ],
      "metadata": {
        "id": "YrVMyuk8HLrb"
      }
    },
    {
      "cell_type": "code",
      "source": [
        "total = 0\n",
        "i = 0\n",
        "while i < 10:\n",
        "    # 目前累積(6) + 這次要加(4) -> 設定回去\n",
        "    total = total + (i + 1)\n",
        "    print(total)\n",
        "    i = i +1"
      ],
      "metadata": {
        "colab": {
          "base_uri": "https://localhost:8080/"
        },
        "id": "cgF3UAMV4S40",
        "outputId": "14617fa0-8760-4af8-a614-bd7caed830bd"
      },
      "execution_count": 38,
      "outputs": [
        {
          "output_type": "stream",
          "name": "stdout",
          "text": [
            "1\n",
            "3\n",
            "6\n",
            "10\n",
            "15\n",
            "21\n",
            "28\n",
            "36\n",
            "45\n",
            "55\n"
          ]
        }
      ]
    },
    {
      "cell_type": "markdown",
      "source": [
        "```python\n",
        "練習: 2 / 7 -> 0.2857142857\n",
        "```"
      ],
      "metadata": {
        "id": "mk6CmzcBHT3p"
      }
    },
    {
      "cell_type": "code",
      "source": [
        "a, b = 2, 7\n",
        "ans = \"0.\"\n",
        "i = 0\n",
        "while i < 10:\n",
        "    # 2 -> 20 在除法時，不購時會補0\n",
        "    a10 = a * 10\n",
        "    # 20 // 7 取商數(//)\n",
        "    ans = ans + str(a10 // b)\n",
        "    print(ans)\n",
        "    # 20 % 7 取餘數(%)\n",
        "    a = a10 % b\n",
        "    i = i + 1"
      ],
      "metadata": {
        "colab": {
          "base_uri": "https://localhost:8080/"
        },
        "id": "co7fd_cWHcfr",
        "outputId": "c8ad75db-3e48-42c8-f140-3088ebe0160c"
      },
      "execution_count": 39,
      "outputs": [
        {
          "output_type": "stream",
          "name": "stdout",
          "text": [
            "0.2\n",
            "0.28\n",
            "0.285\n",
            "0.2857\n",
            "0.28571\n",
            "0.285714\n",
            "0.2857142\n",
            "0.28571428\n",
            "0.285714285\n",
            "0.2857142857\n"
          ]
        }
      ]
    },
    {
      "cell_type": "markdown",
      "source": [
        "```python\n",
        "機器人移動\n",
        "U: 上; D: 下\n",
        "L: 左; R: 右\n",
        "```"
      ],
      "metadata": {
        "id": "rt891qPzIAH7"
      }
    },
    {
      "cell_type": "code",
      "source": [
        "x, y = 0, 0\n",
        "# x = -2, y = 0\n",
        "commands = \"ULLRDL\"\n",
        "i = 0\n",
        "while i < len(commands):\n",
        "    c = commands[i]\n",
        "    if c == \"U\":\n",
        "        y = y + 1\n",
        "    elif c == \"D\":\n",
        "        y = y - 1\n",
        "    elif c == \"L\":\n",
        "        x = x - 1\n",
        "    elif c == \"R\":\n",
        "        x = x +1\n",
        "    # print(x, y)\n",
        "    i = i + 1\n",
        "print(x, y)"
      ],
      "metadata": {
        "colab": {
          "base_uri": "https://localhost:8080/"
        },
        "id": "tyUmkLCnIL7c",
        "outputId": "712dd8a5-379a-4459-bbb7-76f16b8ba031"
      },
      "execution_count": 40,
      "outputs": [
        {
          "output_type": "stream",
          "name": "stdout",
          "text": [
            "-2 0\n"
          ]
        }
      ]
    },
    {
      "cell_type": "markdown",
      "source": [
        "```python\n",
        "蒙地卡羅算面積\n",
        "求的面積: 半徑為1的圓(參照物面積:4)\n",
        "圓上: x^2 + y^2 = r^2 (1)\n",
        "圓內: x^2 + y^2 < r^2 (1)\n",
        "```"
      ],
      "metadata": {
        "id": "twJ3MALnPkxV"
      }
    },
    {
      "cell_type": "code",
      "source": [
        "import random\n",
        "\n",
        "count = 0\n",
        "total = 1000000\n",
        "i = 0\n",
        "while i < total:\n",
        "    # 對於這次隨機(x, y)，uniform是將隨機生成一個實數\n",
        "    x = random.uniform(-1, 1)\n",
        "    y = random.uniform(-1, 1)\n",
        "    # 如果這座標在圓裡面，累積次數增加1\n",
        "    if x ** 2 + y ** 2 <= 1:\n",
        "        # 原本是0個，當有1個落進去，我的次數就加1且設定回去\n",
        "        count = count + 1\n",
        "    i = i + 1\n",
        "# 圓形裡面 / 全部 * 參照物面積\n",
        "ratio = count / total\n",
        "# 比例乘上參照物的面積，就是我目前估計的面積\n",
        "print(ratio * 4)"
      ],
      "metadata": {
        "colab": {
          "base_uri": "https://localhost:8080/"
        },
        "id": "qViyjlgfPsc8",
        "outputId": "0c820aec-138e-4ae5-8aa6-00e0ccb07754"
      },
      "execution_count": 41,
      "outputs": [
        {
          "output_type": "stream",
          "name": "stdout",
          "text": [
            "3.14244\n"
          ]
        }
      ]
    },
    {
      "cell_type": "markdown",
      "source": [
        "**迴圈 第三章**"
      ],
      "metadata": {
        "id": "5dgKqBm2UDrt"
      }
    },
    {
      "cell_type": "code",
      "source": [
        "import random\n",
        "\n",
        "win, lose = 0, 0\n",
        "while win < 3 and lose < 3:\n",
        "    # -1:lose 0:even 1:win\n",
        "    result = random.randint(-1, 1)\n",
        "    print(result)\n",
        "    if result == -1:\n",
        "        lose = lose + 1\n",
        "    elif result == 0:\n",
        "        pass\n",
        "    elif result == 1:\n",
        "        win = win + 1\n",
        "if win > lose:\n",
        "    print(\"WIN\")\n",
        "else:\n",
        "    print(\"LOSE\")\n",
        "\n",
        "# 使用 while True 跟 break 用法\n",
        "win, lose = 0, 0\n",
        "while True:\n",
        "    # -1:lose 0:even 1:win\n",
        "    result = random.randint(-1, 1)\n",
        "    print(result)\n",
        "    if result == -1:\n",
        "        lose = lose + 1\n",
        "    elif result == 0:\n",
        "        pass\n",
        "    elif result == 1:\n",
        "        win = win + 1\n",
        "    # 判斷\n",
        "    if win == 3:\n",
        "        print(\"WIN\")\n",
        "        break\n",
        "    elif lose == 3:\n",
        "        print(\"LOSE\")\n",
        "        break"
      ],
      "metadata": {
        "colab": {
          "base_uri": "https://localhost:8080/"
        },
        "id": "Uuu4cZcmpYEJ",
        "outputId": "56a6446d-d92d-4dc9-aa37-3ca2c0a6c75e"
      },
      "execution_count": 42,
      "outputs": [
        {
          "output_type": "stream",
          "name": "stdout",
          "text": [
            "-1\n",
            "0\n",
            "1\n",
            "1\n",
            "0\n",
            "0\n",
            "0\n",
            "-1\n",
            "-1\n",
            "LOSE\n",
            "0\n",
            "-1\n",
            "0\n",
            "1\n",
            "1\n",
            "0\n",
            "-1\n",
            "0\n",
            "1\n",
            "WIN\n"
          ]
        }
      ]
    },
    {
      "cell_type": "markdown",
      "source": [
        "```python\n",
        "印出十位小數，增加提早停止機制\n",
        "\n",
        "```"
      ],
      "metadata": {
        "id": "nQF3VAvdx99f"
      }
    },
    {
      "cell_type": "code",
      "source": [
        "a, b = 3, 5\n",
        "ans = \"0.\"\n",
        "i = 0\n",
        "while True:\n",
        "    # 3 -> 30 在除法時，不購時會補0\n",
        "    a10 = a * 10\n",
        "    # 30 // 6 取商數(//)\n",
        "    ans = ans + str(a10 // b)\n",
        "    print(ans)\n",
        "    # 30 % 6 取餘數(%)\n",
        "    a = a10 % b\n",
        "    if a == 0:\n",
        "        break\n",
        "    i = i + 1"
      ],
      "metadata": {
        "colab": {
          "base_uri": "https://localhost:8080/"
        },
        "id": "7SLJQbkAyGRy",
        "outputId": "95525e3a-9478-4f30-e898-6c0693d03ca1"
      },
      "execution_count": 43,
      "outputs": [
        {
          "output_type": "stream",
          "name": "stdout",
          "text": [
            "0.6\n"
          ]
        }
      ]
    },
    {
      "cell_type": "markdown",
      "source": [
        "#終極密碼\n",
        "```python\n",
        "終極密碼\n",
        "```"
      ],
      "metadata": {
        "id": "lE7gzCq60HF8"
      }
    },
    {
      "cell_type": "code",
      "source": [
        "import random\n",
        "\n",
        "low, high = 1, 100\n",
        "ans = random.randint(low+1, high-1)\n",
        "\n",
        "while True:\n",
        "    print(\"請輸入\", low, \"-\", high, \":\")\n",
        "    guess = int(input())\n",
        "    if guess <= low and guess >= high:\n",
        "        print(\"請輸入範圍內的數字\")\n",
        "    else:\n",
        "        if guess > ans:\n",
        "            print(\"猜大啦\")\n",
        "            high = guess\n",
        "        elif guess < ans:\n",
        "            print(\"猜小啦\")\n",
        "            low = guess\n",
        "        else:\n",
        "            print(\"恭喜答對了\")\n",
        "            break"
      ],
      "metadata": {
        "colab": {
          "base_uri": "https://localhost:8080/"
        },
        "id": "7q79ssEZ0KE6",
        "outputId": "50dbc86e-9860-4e04-94d5-b77d63573795"
      },
      "execution_count": null,
      "outputs": [
        {
          "output_type": "stream",
          "name": "stdout",
          "text": [
            "請輸入 1 - 100 :\n",
            "50\n",
            "猜小啦\n",
            "請輸入 50 - 100 :\n",
            "80\n",
            "猜大啦\n",
            "請輸入 50 - 80 :\n",
            "67\n",
            "猜小啦\n",
            "請輸入 67 - 80 :\n",
            "74\n",
            "恭喜答對了\n"
          ]
        }
      ]
    },
    {
      "cell_type": "code",
      "source": [
        "import random\n",
        "\n",
        "low, high = 1, 100\n",
        "ans = random.randint(low+1, high-1)\n",
        "\n",
        "while True:\n",
        "    while True:\n",
        "        print(\"請輸入\", low, \"-\", high, \":\")\n",
        "        guess = int(input())\n",
        "        if low < guess < high:\n",
        "            break\n",
        "        else:\n",
        "            print(\"請輸入範圍內的數字\")\n",
        "    if guess > ans:\n",
        "        print(\"猜大啦\")\n",
        "        high = guess\n",
        "    elif guess < ans:\n",
        "        print(\"猜小啦\")\n",
        "        low = guess\n",
        "    else:\n",
        "        print(\"恭喜答對了\")\n",
        "        break"
      ],
      "metadata": {
        "colab": {
          "base_uri": "https://localhost:8080/"
        },
        "id": "cX0_-J5o3YZA",
        "outputId": "d0dbe2e6-77dd-45aa-b5fd-0ab2d090026d"
      },
      "execution_count": null,
      "outputs": [
        {
          "output_type": "stream",
          "name": "stdout",
          "text": [
            "請輸入 1 - 100 :\n",
            "120\n",
            "請輸入範圍內的數字\n",
            "47\n",
            "猜大啦\n",
            "請輸入 1 - 47 :\n",
            "23\n",
            "猜小啦\n",
            "請輸入 23 - 47 :\n",
            "34\n",
            "猜大啦\n",
            "請輸入 23 - 34 :\n",
            "29\n",
            "猜大啦\n",
            "請輸入 23 - 29 :\n",
            "27\n",
            "恭喜答對了\n"
          ]
        }
      ]
    },
    {
      "cell_type": "markdown",
      "source": [
        "# **清單和字典**"
      ],
      "metadata": {
        "id": "U0OmIYhT4Wae"
      }
    },
    {
      "cell_type": "code",
      "source": [
        "scores = [30, 50, 80, 60, 90]\n",
        "\n",
        "print(sum(scores), max(scores), min(scores), len(scores))\n",
        "print(60 in scores)\n",
        "\n",
        "# 查詢: 查東西[key]\n",
        "print(scores[0])\n",
        "\n",
        "# print(scores[len(scores)-1])\n",
        "print(scores[-1])\n",
        "\n",
        "# 查詢一段\n",
        "print(scores[0:2])\n",
        "print(scores[:3])\n",
        "print(scores[3:])\n",
        "\n",
        "# 跳號\n",
        "print(scores[0:4:2])\n",
        "print(scores[::2])\n",
        "\n",
        "# 反向跳號(從又跳到左)\n",
        "print(scores[4:0:-2])"
      ],
      "metadata": {
        "colab": {
          "base_uri": "https://localhost:8080/"
        },
        "id": "sPc7fpth4av2",
        "outputId": "81f63878-5fe3-4d3f-815d-72c9dcb1dba5"
      },
      "execution_count": null,
      "outputs": [
        {
          "output_type": "stream",
          "name": "stdout",
          "text": [
            "310 90 30 5\n",
            "True\n",
            "30\n",
            "90\n",
            "[30, 50]\n",
            "[30, 50, 80]\n",
            "[60, 90]\n",
            "[30, 80]\n",
            "[30, 80, 90]\n",
            "[90, 80]\n"
          ]
        }
      ]
    },
    {
      "cell_type": "markdown",
      "source": [
        "```python\n",
        "計算有幾人及格\n",
        "score = [80, 60, 90, 20, 100]\n",
        "```"
      ],
      "metadata": {
        "id": "x0Kx0lxd7iTO"
      }
    },
    {
      "cell_type": "code",
      "source": [
        "score = [80, 60, 90, 20, 100]\n",
        "\n",
        "i = 0\n",
        "count = 0\n",
        "while i < len(score):\n",
        "    if score[i] >=60:\n",
        "        count = count + 1\n",
        "    i = i + 1\n",
        "print(count)\n",
        "\n",
        "# 使用for...in...用法\n",
        "count = 0\n",
        "for s in score:\n",
        "    if s>= 60:\n",
        "        count = count + 1\n",
        "print(count)"
      ],
      "metadata": {
        "colab": {
          "base_uri": "https://localhost:8080/"
        },
        "id": "zTj4Ozjk7h-E",
        "outputId": "e2bd915d-58bf-4b5d-9687-ace94a99fa96"
      },
      "execution_count": null,
      "outputs": [
        {
          "output_type": "stream",
          "name": "stdout",
          "text": [
            "4\n",
            "4\n"
          ]
        }
      ]
    },
    {
      "cell_type": "markdown",
      "source": [
        "```python\n",
        "從1加到10\n",
        "\n",
        "```"
      ],
      "metadata": {
        "id": "3sVCbR3R9myR"
      }
    },
    {
      "cell_type": "code",
      "source": [
        "total = 0\n",
        "for i in range(10):\n",
        "    total = total + (i+1)\n",
        "    print(total)"
      ],
      "metadata": {
        "colab": {
          "base_uri": "https://localhost:8080/"
        },
        "id": "7qrGFkDN9l1D",
        "outputId": "752aa853-937d-4839-e35c-5d16fab4ee15"
      },
      "execution_count": null,
      "outputs": [
        {
          "output_type": "stream",
          "name": "stdout",
          "text": [
            "1\n",
            "3\n",
            "6\n",
            "10\n",
            "15\n",
            "21\n",
            "28\n",
            "36\n",
            "45\n",
            "55\n"
          ]
        }
      ]
    },
    {
      "cell_type": "markdown",
      "source": [
        "#**迴圈SOP**\n",
        "\n",
        "```python\n",
        "1.   走過群集(str/list...): for 名稱 in 群\n",
        "2.   固定次數型迴圈: for i in range(次)\n",
        "3.   其他條件迴圈: while (True + break)\n",
        "\n",
        "```"
      ],
      "metadata": {
        "id": "JOX7k5XVBFs4"
      }
    },
    {
      "cell_type": "code",
      "source": [
        "person = {\n",
        "    \"name\":\"Vanessa\",\n",
        "    \"height\":158\n",
        "}\n",
        "print(person)\n",
        "\n",
        "# 名稱 -> 字典[key]\n",
        "# print(height)\n",
        "print(person[\"height\"])\n",
        "person[\"height\"] = person[\"height\"] + 5\n",
        "print(person)"
      ],
      "metadata": {
        "colab": {
          "base_uri": "https://localhost:8080/"
        },
        "id": "3DHlNIPpB9mc",
        "outputId": "e9958d04-99f4-467d-ee50-5bc691dc9721"
      },
      "execution_count": null,
      "outputs": [
        {
          "output_type": "stream",
          "name": "stdout",
          "text": [
            "{'name': 'Vanessa', 'height': 158}\n",
            "158\n",
            "{'name': 'Vanessa', 'height': 163}\n"
          ]
        }
      ]
    },
    {
      "cell_type": "code",
      "source": [
        "f = open(\"a.txt\", \"w\", encoding=\"utf-8\")\n",
        "\n",
        "# 以前寫法: write(f, \"abc\")\n",
        "# 專屬功能寫法: f.write(\"abc\")\n",
        "# 跳脫字元: \\n(換行) \\t(Tab鍵)\n",
        "f.write(\"abc\\ndef\")\n",
        "# 以前寫法: close(f)\n",
        "# 專屬功能寫法: f.close()\n",
        "f.close()\n",
        "\n",
        "f = open(\"a.txt\", \"r\", encoding=\"utf-8\")\n",
        "# 以前: s = read(f)\n",
        "# 專屬功能寫法: s = f.read()\n",
        "s = f.read()\n",
        "f.close()\n",
        "\n",
        "print(s)"
      ],
      "metadata": {
        "colab": {
          "base_uri": "https://localhost:8080/"
        },
        "id": "0tbcP3mJMlcF",
        "outputId": "7014ceeb-fefb-4362-d10f-01f3c2d5c814"
      },
      "execution_count": null,
      "outputs": [
        {
          "output_type": "stream",
          "name": "stdout",
          "text": [
            "abc\n",
            "def\n"
          ]
        }
      ]
    },
    {
      "cell_type": "markdown",
      "source": [
        "#**GOOGLE 動圖下載**"
      ],
      "metadata": {
        "id": "sngyyjlrUpxk"
      }
    },
    {
      "cell_type": "code",
      "source": [
        "import os\n",
        "import json\n",
        "import urllib.request as req\n",
        "\n",
        "dirname = \"google\"\n",
        "# 如果資料夾不存在，就創造起來\n",
        "if not os.path.exists(dirname):\n",
        "    os.makedirs(dirname)\n",
        "\n",
        "url = \"https://www.google.com/doodles/json/2023/7?hI=zh-TW\"\n",
        "f = req.urlopen(url)\n",
        "s = f.read()\n",
        "# type(型態): bytes(原始字串0 1)\n",
        "# print(type(s))\n",
        "pics = json.loads(s)\n",
        "# pics = json.load(f)\n",
        "# print(type(pics))\n",
        "\n",
        "for p in pics:\n",
        "    # print(type(p))\n",
        "    print(p[\"title\"])\n",
        "    img = \"https:\" + p[\"high_res_url\"]\n",
        "    print(img)\n",
        "    # urlretrieve(圖片網址，儲存檔案路徑)\n",
        "    fp = dirname + \"/\" + img.split(\"/\")[-1]\n",
        "    req.urlretrieve(img, fp)\n",
        "    print(\"-\" * 30)\n",
        "    # req.urlretrieve(img, \"img/\" + p[\"title\"] + \".jpg\")"
      ],
      "metadata": {
        "colab": {
          "base_uri": "https://localhost:8080/"
        },
        "id": "jRhzIuxPjye6",
        "outputId": "10f110aa-5281-47b5-e388-0c0a9a13431e"
      },
      "execution_count": 6,
      "outputs": [
        {
          "output_type": "stream",
          "name": "stdout",
          "text": [
            "2023 Womens World Cup (July 31)\n",
            "https://www.google.com/logos/doodles/2023/2023-womens-world-cup-july-31-6753651837110157-2xa.gif\n",
            "------------------------------\n",
            "2023 Women's World Cup (Jul 30)\n",
            "https://www.google.com/logos/doodles/2023/2023-womens-world-cup-jul-30-6753651837110063-2xa.gif\n",
            "------------------------------\n",
            "Peru Independence Day 2023\n",
            "https://www.google.com/logos/doodles/2023/peru-independence-day-2023-6753651837109908-2xa.gif\n",
            "------------------------------\n",
            "Isabelle Gatti de Gamond's 184th Birthday\n",
            "https://www.google.com/logos/doodles/2023/isabelle-gatti-de-gamonds-184th-birthday-6753651837109907.2-2x.png\n",
            "------------------------------\n",
            "Celebrating Ramón López Velarde\n",
            "https://www.google.com/logos/doodles/2023/celebrating-ramon-lopez-velarde-6753651837109583-2x.png\n",
            "------------------------------\n",
            "Dr. Mod Helmy's 122nd Birthday\n",
            "https://www.google.com/logos/doodles/2023/dr-mod-helmys-122nd-birthday-6753651837110062.3-2x.png\n",
            "------------------------------\n",
            "Spain National Elections 2023\n",
            "https://www.google.com/logos/doodles/2023/spain-national-elections-2023-6753651837110133.2-2x.png\n",
            "------------------------------\n",
            "Lenka Franulic's 115th Birthday\n",
            "https://www.google.com/logos/doodles/2023/lenka-franulics-115th-birthday-6753651837109905-2x.png\n",
            "------------------------------\n",
            "Belgium National Day 2023\n",
            "https://www.google.com/logos/doodles/2023/belgium-national-day-2023-6753651837109904.3-2x.png\n",
            "------------------------------\n",
            "Colombia Independence Day 2023\n",
            "https://www.google.com/logos/doodles/2023/colombia-independence-day-2023-6753651837109903-2x.png\n",
            "------------------------------\n",
            "2023 Women's World Cup - Opening Day!\n",
            "https://www.google.com/logos/doodles/2023/2023-womens-world-cup-opening-day-6753651837110060-2xa.gif\n",
            "------------------------------\n",
            "Arthur Friedenreich's 131st Birthday\n",
            "https://www.google.com/logos/doodles/2023/arthur-friedenreichs-131st-birthday-6753651837110113-2x.png\n",
            "------------------------------\n",
            "Celebrating Asma Hamza\n",
            "https://www.google.com/logos/doodles/2023/celebrating-asma-hamza-6753651837109902-2x.png\n",
            "------------------------------\n",
            "Eunice Newton Foote's 204th Birthday\n",
            "https://www.google.com/logos/doodles/2023/eunice-newton-footes-204th-birthday-6753651837110059-2xa.gif\n",
            "------------------------------\n",
            "Zarina Hashmi's 86th Birthday\n",
            "https://www.google.com/logos/doodles/2023/zarina-hashmis-86th-birthday-6753651837110058-2x.png\n",
            "------------------------------\n",
            "Bastille Day 2023\n",
            "https://www.google.com/logos/doodles/2023/bastille-day-2023-6753651837110057-2x.png\n",
            "------------------------------\n",
            "Celebrating Pani Puri\n",
            "https://www.google.com/logos/doodles/2023/celebrating-pani-puri-6753651837110029.2-2xa.gif\n",
            "------------------------------\n",
            "Argentina Independence Day 2023\n",
            "https://www.google.com/logos/doodles/2023/argentina-independence-day-2023-6753651837109681-2x.png\n",
            "------------------------------\n",
            "Emma Reyes's 104th Birthday\n",
            "https://www.google.com/logos/doodles/2023/emma-reyess-104th-birthday-6753651837109901-2x.png\n",
            "------------------------------\n",
            "Tanabata 2023\n",
            "https://www.google.com/logos/doodles/2023/tanabata-2023-6753651837110056-2x.png\n",
            "------------------------------\n",
            "Venezuela Independence Day 2023\n",
            "https://www.google.com/logos/doodles/2023/venezuela-independence-day-2023-6753651837109900-2xa.gif\n",
            "------------------------------\n",
            "Algeria National Day 2023\n",
            "https://www.google.com/logos/doodles/2023/algeria-national-day-2023-6753651837109899-2xa.gif\n",
            "------------------------------\n",
            "Fourth of July 2023\n",
            "https://www.google.com/logos/doodles/2023/fourth-of-july-2023-6753651837109898-2x.png\n",
            "------------------------------\n",
            "Celebrating Diana Sacayán\n",
            "https://www.google.com/logos/doodles/2023/celebrating-diana-sacayan-6753651837109994-2x.png\n",
            "------------------------------\n",
            "Canada Day 2023\n",
            "https://www.google.com/logos/doodles/2023/canada-day-2023-6753651837109896-2x.png\n",
            "------------------------------\n"
          ]
        }
      ]
    },
    {
      "cell_type": "markdown",
      "source": [
        "**#專屬功能**\n",
        "\n",
        "```python\n",
        "查: string method python\n",
        "--> 可使用 W3Schools 網站\n",
        "\n",
        "```"
      ],
      "metadata": {
        "id": "H3GTuUChcb9S"
      }
    },
    {
      "cell_type": "code",
      "source": [
        "s = \"hello \" * 5\n",
        "\n",
        "s = s.replace(\"hello\", \"bye\", 3)\n",
        "print(s)\n",
        "\n",
        "# 切開\n",
        "d = \"2023-12-23\"\n",
        "ds = d.split(\"-\")\n",
        "print(ds)\n",
        "\n",
        "# 合併\n",
        "dj = \"/\".join(ds[::-1])\n",
        "print(dj)\n",
        "\n",
        "s = \" \\n abc \\t \\n\"\n",
        "print(s.strip())\n",
        "print(\"!\",s.lstrip())\n",
        "print(\"!\",s.rstrip())"
      ],
      "metadata": {
        "colab": {
          "base_uri": "https://localhost:8080/"
        },
        "id": "WUyfD0ZkcvH-",
        "outputId": "e4181a12-fb59-451a-8ad2-5b9a1e5855c0"
      },
      "execution_count": 21,
      "outputs": [
        {
          "output_type": "stream",
          "name": "stdout",
          "text": [
            "bye bye bye hello hello \n",
            "['2023', '12', '23']\n",
            "23/12/2023\n",
            "abc\n",
            "! abc \t \n",
            "\n",
            "!  \n",
            " abc\n"
          ]
        }
      ]
    },
    {
      "cell_type": "markdown",
      "source": [
        "```python\n",
        "清單(list)\n",
        "```"
      ],
      "metadata": {
        "id": "OfSq6vA-g7ng"
      }
    },
    {
      "cell_type": "code",
      "source": [
        "scores = [50, 40, 60]\n",
        "b = scores.append(99)\n",
        "print(scores)\n",
        "\n",
        "# 字串: print(s.replace(xxx, ooo))\n",
        "\n",
        "# 錯誤1. 印出None,但是888是有進去的\n",
        "# scores.append(888))\n",
        "\n",
        "# 字串: s = s.replace()\n",
        "# 致命錯誤2. 相當於寫scores = None\n",
        "# scores = scores.append(777)\n",
        "# print(scores[-1])\n",
        "\n",
        "scores.append(1234)\n",
        "print(scores)"
      ],
      "metadata": {
        "colab": {
          "base_uri": "https://localhost:8080/"
        },
        "id": "l129ydIMhBA9",
        "outputId": "768a09b0-5937-4b6a-d602-0929515f4e3f"
      },
      "execution_count": 24,
      "outputs": [
        {
          "output_type": "stream",
          "name": "stdout",
          "text": [
            "[50, 40, 60, 99]\n",
            "[50, 40, 60, 99, 1234]\n"
          ]
        }
      ]
    },
    {
      "cell_type": "markdown",
      "source": [
        "```python\n",
        "四大基礎型態\n",
        "1. 數字:整數(int)和小數(float)\n",
        "2. 字串:\"hello\"\n",
        "3. 布林:True/False\n",
        "4. 無 :None\n",
        "\n",
        "字串型:\n",
        "b = a.replace()這時候a是舊的字串，b是新的\n",
        "清單型:\n",
        "b = a.append 這時候a是新的清單，b是None\n",
        "***分辨方法: 接接看，接到None就屬於第二種\n",
        "```"
      ],
      "metadata": {
        "id": "AyYjbw9ahp8W"
      }
    },
    {
      "cell_type": "markdown",
      "source": [
        "```python\n",
        "n門\n",
        "```"
      ],
      "metadata": {
        "id": "bn5v6zExr6uK"
      }
    },
    {
      "cell_type": "code",
      "source": [
        "import random\n",
        "\n",
        "total = 100000\n",
        "win, lose = 0, 0\n",
        "n = 4\n",
        "\n",
        "for i in range(total):\n",
        "    # 準備n個門 [0和1] 0:沒有獎 1:中獎\n",
        "    doors = [0] * (n-1)\n",
        "    idx = random.randint(0, len(doors)-1)\n",
        "\n",
        "    # insert(插入位置，插入值)\n",
        "    doors.insert(idx, 1)\n",
        "    # print(\"準備的門: \", doors)\n",
        "\n",
        "    # 隨機選一個門(random)(X)\n",
        "    idx = random.randint(0, len(doors)-1)\n",
        "    # print(\"選到的門: \", doors[idx])\n",
        "\n",
        "    # pop(idx):刪除那個idx pop():刪除最後一個\n",
        "    doors.pop(idx)\n",
        "    # print(\"剩下的門: \", doors)\n",
        "\n",
        "    # 在剩下的門裡面，主持人開一沒有獎的(X)\n",
        "    # remove(值): 從左到右找到第一個吻合的值並且移除\n",
        "    doors.remove(0)\n",
        "    # print(\"剩下的門: \", doors)\n",
        "\n",
        "    # 扣除剛剛那兩道以後，再選一個帶回家\n",
        "    idx = random.randint(0, len(doors)-1)\n",
        "    if doors[idx] == 1:\n",
        "        # print(\"中獎\")\n",
        "        win = win + 1\n",
        "    else:\n",
        "        # print(\"沒中獎\")\n",
        "        lose = lose + 1\n",
        "ratio = win / (total)\n",
        "print(\"贏的機率是: \", ratio)"
      ],
      "metadata": {
        "colab": {
          "base_uri": "https://localhost:8080/"
        },
        "id": "w0UOSudDmy0l",
        "outputId": "d8ea4d10-c502-46bc-ee9a-cc7d621cb583"
      },
      "execution_count": 33,
      "outputs": [
        {
          "output_type": "stream",
          "name": "stdout",
          "text": [
            "贏的機率是:  0.37513\n"
          ]
        }
      ]
    },
    {
      "cell_type": "markdown",
      "source": [
        "```python\n",
        "bmi\n",
        "```"
      ],
      "metadata": {
        "id": "lIbjIrGNuKpa"
      }
    },
    {
      "cell_type": "code",
      "source": [
        "# weight = float(input(\"請輸入體重(kg):\"))\n",
        "# height = float(input(\"請輸入身高(cm):\"))\n",
        "\n",
        "person ={\n",
        "    \"weight\":60,\n",
        "    \"height\":158\n",
        "}\n",
        "\n",
        "# 定義參數: 預先定義一個參數代號/名稱\n",
        "# 定義回傳值: return, 你沒有寫return 就相當於寫 return None\n",
        "def calculate_bmi(w, h, d=2):\n",
        "    bmi = w / (h / 100) ** 2\n",
        "    return round(bmi, d)\n",
        "\n",
        "print(calculate_bmi(person[\"weight\"], person[\"height\"]))\n"
      ],
      "metadata": {
        "colab": {
          "base_uri": "https://localhost:8080/"
        },
        "id": "f3HwkmfEsFY7",
        "outputId": "e3e8c4cc-22dd-45f8-b6d9-fe740659b1b5"
      },
      "execution_count": 49,
      "outputs": [
        {
          "output_type": "stream",
          "name": "stdout",
          "text": [
            "請輸入體重(kg):80\n",
            "請輸入身高(cm):190\n",
            "22.1607\n"
          ]
        }
      ]
    }
  ]
}