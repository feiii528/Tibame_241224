{
  "nbformat": 4,
  "nbformat_minor": 0,
  "metadata": {
    "colab": {
      "provenance": [],
      "authorship_tag": "ABX9TyNKlZcGxjgx4PNlWinmVFMb",
      "include_colab_link": true
    },
    "kernelspec": {
      "name": "python3",
      "display_name": "Python 3"
    },
    "language_info": {
      "name": "python"
    }
  },
  "cells": [
    {
      "cell_type": "markdown",
      "metadata": {
        "id": "view-in-github",
        "colab_type": "text"
      },
      "source": [
        "<a href=\"https://colab.research.google.com/github/feiii528/Tibame_241224/blob/main/practice.ipynb\" target=\"_parent\"><img src=\"https://colab.research.google.com/assets/colab-badge.svg\" alt=\"Open In Colab\"/></a>"
      ]
    },
    {
      "cell_type": "markdown",
      "source": [
        "```python\n",
        "棒打老虎雞吃蟲\n",
        "\n",
        "```"
      ],
      "metadata": {
        "id": "S7313G3OfQXm"
      }
    },
    {
      "cell_type": "code",
      "execution_count": 20,
      "metadata": {
        "colab": {
          "base_uri": "https://localhost:8080/"
        },
        "id": "bj0mmjAbe7lD",
        "outputId": "f2572925-c55f-474b-e937-795d06caf75d"
      },
      "outputs": [
        {
          "output_type": "stream",
          "name": "stdout",
          "text": [
            "請輸入 0.棒 1.虎 2.雞 3.蟲:0\n",
            "我出的: 棒\n",
            "電腦出的: 虎\n",
            "WIN\n"
          ]
        }
      ],
      "source": [
        "import random\n",
        "\n",
        "my = int(input(\"請輸入 0.棒 1.虎 2.雞 3.蟲:\"))\n",
        "com = random.randint(0, 3)\n",
        "trans = [\"棒\", \"虎\", \"雞\", \"蟲\"]\n",
        "print(\"我出的:\", trans[my])\n",
        "print(\"電腦出的:\", trans[com])\n",
        "\n",
        "if my == (com + 1) % 4:\n",
        "    print(\"LOSE\")\n",
        "elif com == (my + 1) % 4:\n",
        "    print(\"WIN\")\n",
        "else:\n",
        "    print(\"EVEN\")\n"
      ]
    }
  ]
}