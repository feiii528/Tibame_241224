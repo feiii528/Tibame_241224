{
  "nbformat": 4,
  "nbformat_minor": 0,
  "metadata": {
    "colab": {
      "provenance": [],
      "authorship_tag": "ABX9TyPvr0UNJ8FK+dm4qFOxLTn2",
      "include_colab_link": true
    },
    "kernelspec": {
      "name": "python3",
      "display_name": "Python 3"
    },
    "language_info": {
      "name": "python"
    }
  },
  "cells": [
    {
      "cell_type": "markdown",
      "metadata": {
        "id": "view-in-github",
        "colab_type": "text"
      },
      "source": [
        "<a href=\"https://colab.research.google.com/github/feiii528/Tibame_241224/blob/main/practice.ipynb\" target=\"_parent\"><img src=\"https://colab.research.google.com/assets/colab-badge.svg\" alt=\"Open In Colab\"/></a>"
      ]
    },
    {
      "cell_type": "markdown",
      "source": [
        "```python\n",
        "棒打老虎雞吃蟲\n",
        "\n",
        "```"
      ],
      "metadata": {
        "id": "S7313G3OfQXm"
      }
    },
    {
      "cell_type": "code",
      "execution_count": 20,
      "metadata": {
        "colab": {
          "base_uri": "https://localhost:8080/"
        },
        "id": "bj0mmjAbe7lD",
        "outputId": "f2572925-c55f-474b-e937-795d06caf75d"
      },
      "outputs": [
        {
          "output_type": "stream",
          "name": "stdout",
          "text": [
            "請輸入 0.棒 1.虎 2.雞 3.蟲:0\n",
            "我出的: 棒\n",
            "電腦出的: 虎\n",
            "WIN\n"
          ]
        }
      ],
      "source": [
        "import random\n",
        "\n",
        "my = int(input(\"請輸入 0.棒 1.虎 2.雞 3.蟲:\"))\n",
        "com = random.randint(0, 3)\n",
        "trans = [\"棒\", \"虎\", \"雞\", \"蟲\"]\n",
        "print(\"我出的:\", trans[my])\n",
        "print(\"電腦出的:\", trans[com])\n",
        "\n",
        "# 要循環的話是n+1(輪迴)\n",
        "if my == (com + 1) % 4:\n",
        "    print(\"LOSE\")\n",
        "elif com == (my + 1) % 4:\n",
        "    print(\"WIN\")\n",
        "else:\n",
        "    print(\"EVEN\")\n"
      ]
    },
    {
      "cell_type": "markdown",
      "source": [
        "#**迴圈**"
      ],
      "metadata": {
        "id": "rtqn9abdAfYp"
      }
    },
    {
      "cell_type": "markdown",
      "source": [
        "**迴圈 第一章**"
      ],
      "metadata": {
        "id": "zfno7-YO4Eri"
      }
    },
    {
      "cell_type": "code",
      "source": [
        "i = 0\n",
        "while i < 10:\n",
        "    print(\"*\" * (i + 1),\n",
        "       \"*\" * (10 - i),\n",
        "       \" \" * (9 - i) + \"*\" * (i+1))\n",
        "    i = i + 1"
      ],
      "metadata": {
        "colab": {
          "base_uri": "https://localhost:8080/"
        },
        "id": "zRKF9WaLtXDf",
        "outputId": "db126f20-0bfb-4675-8229-4173f5e0c9f6"
      },
      "execution_count": 40,
      "outputs": [
        {
          "output_type": "stream",
          "name": "stdout",
          "text": [
            "* **********          *\n",
            "** *********         **\n",
            "*** ********        ***\n",
            "**** *******       ****\n",
            "***** ******      *****\n",
            "****** *****     ******\n",
            "******* ****    *******\n",
            "******** ***   ********\n",
            "********* **  *********\n",
            "********** * **********\n"
          ]
        }
      ]
    },
    {
      "cell_type": "code",
      "source": [
        "left, right = \" \", \"o\"\n",
        "layer = 10\n",
        "i = 0\n",
        "while i < layer:\n",
        "    lcount = layer - i - 1\n",
        "    rcount = i + 1\n",
        "    print(left * lcount + right * rcount)\n",
        "    i = i + 1"
      ],
      "metadata": {
        "colab": {
          "base_uri": "https://localhost:8080/"
        },
        "id": "SR5x0wry1be8",
        "outputId": "2eecd688-e5e7-444e-efe5-14ef47046bda"
      },
      "execution_count": 41,
      "outputs": [
        {
          "output_type": "stream",
          "name": "stdout",
          "text": [
            "         o\n",
            "        oo\n",
            "       ooo\n",
            "      oooo\n",
            "     ooooo\n",
            "    oooooo\n",
            "   ooooooo\n",
            "  oooooooo\n",
            " ooooooooo\n",
            "oooooooooo\n"
          ]
        }
      ]
    },
    {
      "cell_type": "code",
      "source": [
        "left, right = \" \", \"x\"\n",
        "layer = 10\n",
        "i = 0\n",
        "while i < layer:\n",
        "    lcount = i\n",
        "    rcount = layer - i\n",
        "    print(left * lcount + right * rcount)\n",
        "    i = i + 1"
      ],
      "metadata": {
        "colab": {
          "base_uri": "https://localhost:8080/"
        },
        "id": "iMyk8KX81egB",
        "outputId": "cad5a623-77b9-4c31-b723-3a9e1b1f4d8e"
      },
      "execution_count": 42,
      "outputs": [
        {
          "output_type": "stream",
          "name": "stdout",
          "text": [
            "xxxxxxxxxx\n",
            " xxxxxxxxx\n",
            "  xxxxxxxx\n",
            "   xxxxxxx\n",
            "    xxxxxx\n",
            "     xxxxx\n",
            "      xxxx\n",
            "       xxx\n",
            "        xx\n",
            "         x\n"
          ]
        }
      ]
    },
    {
      "cell_type": "code",
      "source": [
        "# 3層->5; 4層->7; 5層->9\n",
        "left, mid, right = \" \", \"x\", \" \"\n",
        "layer = 10\n",
        "i = 0\n",
        "while i < layer:\n",
        "    lcount = i\n",
        "    mcount = (layer * 2 -1) - 2 * i\n",
        "    rcount = i\n",
        "    print(left * lcount +\n",
        "       mid * mcount +\n",
        "       right * rcount)\n",
        "    i = i + 1"
      ],
      "metadata": {
        "colab": {
          "base_uri": "https://localhost:8080/"
        },
        "id": "drjcbUKK1nHD",
        "outputId": "e36ae5dd-2942-49a5-932b-441a4c6be6cf"
      },
      "execution_count": 43,
      "outputs": [
        {
          "output_type": "stream",
          "name": "stdout",
          "text": [
            "xxxxxxxxxxxxxxxxxxx\n",
            " xxxxxxxxxxxxxxxxx \n",
            "  xxxxxxxxxxxxxxx  \n",
            "   xxxxxxxxxxxxx   \n",
            "    xxxxxxxxxxx    \n",
            "     xxxxxxxxx     \n",
            "      xxxxxxx      \n",
            "       xxxxx       \n",
            "        xxx        \n",
            "         x         \n"
          ]
        }
      ]
    },
    {
      "cell_type": "markdown",
      "source": [
        "**迴圈 第二章**"
      ],
      "metadata": {
        "id": "x3Cl-Ekd4TPK"
      }
    },
    {
      "cell_type": "markdown",
      "source": [
        "```python\n",
        "從數字1加到數字10的總和\n",
        "```"
      ],
      "metadata": {
        "id": "YrVMyuk8HLrb"
      }
    },
    {
      "cell_type": "code",
      "source": [
        "total = 0\n",
        "i = 0\n",
        "while i < 10:\n",
        "    # 目前累積(6) + 這次要加(4) -> 設定回去\n",
        "    total = total + (i + 1)\n",
        "    print(total)\n",
        "    i = i +1"
      ],
      "metadata": {
        "colab": {
          "base_uri": "https://localhost:8080/"
        },
        "id": "cgF3UAMV4S40",
        "outputId": "3dfd927b-db61-48c3-c160-4d1008020fe1"
      },
      "execution_count": 44,
      "outputs": [
        {
          "output_type": "stream",
          "name": "stdout",
          "text": [
            "1\n",
            "3\n",
            "6\n",
            "10\n",
            "15\n",
            "21\n",
            "28\n",
            "36\n",
            "45\n",
            "55\n"
          ]
        }
      ]
    },
    {
      "cell_type": "markdown",
      "source": [
        "```python\n",
        "練習: 2 / 7 -> 0.2857142857\n",
        "```"
      ],
      "metadata": {
        "id": "mk6CmzcBHT3p"
      }
    },
    {
      "cell_type": "code",
      "source": [
        "a, b = 2, 7\n",
        "ans = \"0.\"\n",
        "i = 0\n",
        "while i < 10:\n",
        "    # 2 -> 20 在除法時，不購時會補0\n",
        "    a10 = a * 10\n",
        "    # 20 // 7 取商數(//)\n",
        "    ans = ans + str(a10 // b)\n",
        "    print(ans)\n",
        "    # 20 % 7 取餘數(%)\n",
        "    a = a10 % b\n",
        "    i = i + 1"
      ],
      "metadata": {
        "colab": {
          "base_uri": "https://localhost:8080/"
        },
        "id": "co7fd_cWHcfr",
        "outputId": "401c7706-5b64-474f-cdb8-29f8ab3a77da"
      },
      "execution_count": 45,
      "outputs": [
        {
          "output_type": "stream",
          "name": "stdout",
          "text": [
            "0.2\n",
            "0.28\n",
            "0.285\n",
            "0.2857\n",
            "0.28571\n",
            "0.285714\n",
            "0.2857142\n",
            "0.28571428\n",
            "0.285714285\n",
            "0.2857142857\n"
          ]
        }
      ]
    },
    {
      "cell_type": "markdown",
      "source": [
        "```python\n",
        "機器人移動\n",
        "U: 上; D: 下\n",
        "L: 左; R: 右\n",
        "```"
      ],
      "metadata": {
        "id": "rt891qPzIAH7"
      }
    },
    {
      "cell_type": "code",
      "source": [
        "x, y = 0, 0\n",
        "# x = -2, y = 0\n",
        "commands = \"ULLRDL\"\n",
        "i = 0\n",
        "while i < len(commands):\n",
        "    c = commands[i]\n",
        "    if c == \"U\":\n",
        "        y = y + 1\n",
        "    elif c == \"D\":\n",
        "        y = y - 1\n",
        "    elif c == \"L\":\n",
        "        x = x - 1\n",
        "    elif c == \"R\":\n",
        "        x = x +1\n",
        "    # print(x, y)\n",
        "    i = i + 1\n",
        "print(x, y)"
      ],
      "metadata": {
        "colab": {
          "base_uri": "https://localhost:8080/"
        },
        "id": "tyUmkLCnIL7c",
        "outputId": "929ebfb7-50be-4f52-99fa-c69907d09733"
      },
      "execution_count": 46,
      "outputs": [
        {
          "output_type": "stream",
          "name": "stdout",
          "text": [
            "-2 0\n"
          ]
        }
      ]
    },
    {
      "cell_type": "markdown",
      "source": [
        "```python\n",
        "蒙地卡羅算面積\n",
        "求的面積: 半徑為1的圓(參照物面積:4)\n",
        "圓上: x^2 + y^2 = r^2 (1)\n",
        "圓內: x^2 + y^2 < r^2 (1)\n",
        "```"
      ],
      "metadata": {
        "id": "twJ3MALnPkxV"
      }
    },
    {
      "cell_type": "code",
      "source": [
        "import random\n",
        "\n",
        "count = 0\n",
        "total = 1000000\n",
        "i = 0\n",
        "while i < total:\n",
        "    # 對於這次隨機(x, y)，uniform是將隨機生成一個實數\n",
        "    x = random.uniform(-1, 1)\n",
        "    y = random.uniform(-1, 1)\n",
        "    # 如果這座標在圓裡面，累積次數增加1\n",
        "    if x ** 2 + y ** 2 <= 1:\n",
        "        # 原本是0個，當有1個落進去，我的次數就加1且設定回去\n",
        "        count = count + 1\n",
        "    i = i + 1\n",
        "# 圓形裡面 / 全部 * 參照物面積\n",
        "ratio = count / total\n",
        "# 比例乘上參照物的面積，就是我目前估計的面積\n",
        "print(ratio * 4)"
      ],
      "metadata": {
        "colab": {
          "base_uri": "https://localhost:8080/"
        },
        "id": "qViyjlgfPsc8",
        "outputId": "e3874583-91be-4caf-deef-a4482fd59dc6"
      },
      "execution_count": 47,
      "outputs": [
        {
          "output_type": "stream",
          "name": "stdout",
          "text": [
            "3.14328\n"
          ]
        }
      ]
    },
    {
      "cell_type": "markdown",
      "source": [
        "**迴圈 第三章**"
      ],
      "metadata": {
        "id": "5dgKqBm2UDrt"
      }
    },
    {
      "cell_type": "code",
      "source": [
        "import random\n",
        "\n",
        "win, lose = 0, 0\n",
        "while win < 3 and lose < 3:\n",
        "    # -1:lose 0:even 1:win\n",
        "    result = random.randint(-1, 1)\n",
        "    print(result)\n",
        "    if result == -1:\n",
        "        lose = lose + 1\n",
        "    elif result == 0:\n",
        "        pass\n",
        "    elif result == 1:\n",
        "        win = win + 1\n",
        "if win > lose:\n",
        "    print(\"WIN\")\n",
        "else:\n",
        "    print(\"LOSE\")\n",
        "\n",
        "# 使用 while True 跟 break 用法\n",
        "win, lose = 0, 0\n",
        "while True:\n",
        "    # -1:lose 0:even 1:win\n",
        "    result = random.randint(-1, 1)\n",
        "    print(result)\n",
        "    if result == -1:\n",
        "        lose = lose + 1\n",
        "    elif result == 0:\n",
        "        pass\n",
        "    elif result == 1:\n",
        "        win = win + 1\n",
        "    # 判斷\n",
        "    if win == 3:\n",
        "        print(\"WIN\")\n",
        "        break\n",
        "    elif lose == 3:\n",
        "        print(\"LOSE\")\n",
        "        break"
      ],
      "metadata": {
        "colab": {
          "base_uri": "https://localhost:8080/"
        },
        "id": "Uuu4cZcmpYEJ",
        "outputId": "55296d2a-6fd0-4a5c-82da-d82676fc22b7"
      },
      "execution_count": 48,
      "outputs": [
        {
          "output_type": "stream",
          "name": "stdout",
          "text": [
            "0\n",
            "0\n",
            "0\n",
            "1\n",
            "0\n",
            "-1\n",
            "1\n",
            "0\n",
            "0\n",
            "0\n",
            "-1\n",
            "0\n",
            "1\n",
            "WIN\n",
            "1\n",
            "-1\n",
            "0\n",
            "-1\n",
            "-1\n",
            "LOSE\n"
          ]
        }
      ]
    },
    {
      "cell_type": "markdown",
      "source": [
        "```python\n",
        "印出十位小數，增加提早停止機制\n",
        "\n",
        "```"
      ],
      "metadata": {
        "id": "nQF3VAvdx99f"
      }
    },
    {
      "cell_type": "code",
      "source": [
        "a, b = 3, 5\n",
        "ans = \"0.\"\n",
        "i = 0\n",
        "while True:\n",
        "    # 3 -> 30 在除法時，不購時會補0\n",
        "    a10 = a * 10\n",
        "    # 30 // 6 取商數(//)\n",
        "    ans = ans + str(a10 // b)\n",
        "    print(ans)\n",
        "    # 30 % 6 取餘數(%)\n",
        "    a = a10 % b\n",
        "    if a == 0:\n",
        "        break\n",
        "    i = i + 1"
      ],
      "metadata": {
        "colab": {
          "base_uri": "https://localhost:8080/"
        },
        "id": "7SLJQbkAyGRy",
        "outputId": "e94eaeb6-cc3f-4480-bd1e-eacb2fe200f1"
      },
      "execution_count": 49,
      "outputs": [
        {
          "output_type": "stream",
          "name": "stdout",
          "text": [
            "0.6\n"
          ]
        }
      ]
    },
    {
      "cell_type": "markdown",
      "source": [
        "#終極密碼\n",
        "```python\n",
        "終極密碼\n",
        "```"
      ],
      "metadata": {
        "id": "lE7gzCq60HF8"
      }
    },
    {
      "cell_type": "code",
      "source": [
        "import random\n",
        "\n",
        "low, high = 1, 100\n",
        "ans = random.randint(low+1, high-1)\n",
        "\n",
        "while True:\n",
        "    print(\"請輸入\", low, \"-\", high, \":\")\n",
        "    guess = int(input())\n",
        "    if guess <= low and guess >= high:\n",
        "        print(\"請輸入範圍內的數字\")\n",
        "    else:\n",
        "        if guess > ans:\n",
        "            print(\"猜大啦\")\n",
        "            high = guess\n",
        "        elif guess < ans:\n",
        "            print(\"猜小啦\")\n",
        "            low = guess\n",
        "        else:\n",
        "            print(\"恭喜答對了\")\n",
        "            break"
      ],
      "metadata": {
        "colab": {
          "base_uri": "https://localhost:8080/"
        },
        "id": "7q79ssEZ0KE6",
        "outputId": "50dbc86e-9860-4e04-94d5-b77d63573795"
      },
      "execution_count": 19,
      "outputs": [
        {
          "output_type": "stream",
          "name": "stdout",
          "text": [
            "請輸入 1 - 100 :\n",
            "50\n",
            "猜小啦\n",
            "請輸入 50 - 100 :\n",
            "80\n",
            "猜大啦\n",
            "請輸入 50 - 80 :\n",
            "67\n",
            "猜小啦\n",
            "請輸入 67 - 80 :\n",
            "74\n",
            "恭喜答對了\n"
          ]
        }
      ]
    },
    {
      "cell_type": "code",
      "source": [
        "import random\n",
        "\n",
        "low, high = 1, 100\n",
        "ans = random.randint(low+1, high-1)\n",
        "\n",
        "while True:\n",
        "    while True:\n",
        "        print(\"請輸入\", low, \"-\", high, \":\")\n",
        "        guess = int(input())\n",
        "        if low < guess < high:\n",
        "            break\n",
        "        else:\n",
        "            print(\"請輸入範圍內的數字\")\n",
        "    if guess > ans:\n",
        "        print(\"猜大啦\")\n",
        "        high = guess\n",
        "    elif guess < ans:\n",
        "        print(\"猜小啦\")\n",
        "        low = guess\n",
        "    else:\n",
        "        print(\"恭喜答對了\")\n",
        "        break"
      ],
      "metadata": {
        "colab": {
          "base_uri": "https://localhost:8080/"
        },
        "id": "cX0_-J5o3YZA",
        "outputId": "d0dbe2e6-77dd-45aa-b5fd-0ab2d090026d"
      },
      "execution_count": 20,
      "outputs": [
        {
          "output_type": "stream",
          "name": "stdout",
          "text": [
            "請輸入 1 - 100 :\n",
            "120\n",
            "請輸入範圍內的數字\n",
            "47\n",
            "猜大啦\n",
            "請輸入 1 - 47 :\n",
            "23\n",
            "猜小啦\n",
            "請輸入 23 - 47 :\n",
            "34\n",
            "猜大啦\n",
            "請輸入 23 - 34 :\n",
            "29\n",
            "猜大啦\n",
            "請輸入 23 - 29 :\n",
            "27\n",
            "恭喜答對了\n"
          ]
        }
      ]
    },
    {
      "cell_type": "markdown",
      "source": [
        "# **清單和字典**"
      ],
      "metadata": {
        "id": "U0OmIYhT4Wae"
      }
    },
    {
      "cell_type": "code",
      "source": [
        "scores = [30, 50, 80, 60, 90]\n",
        "\n",
        "print(sum(scores), max(scores), min(scores), len(scores))\n",
        "print(60 in scores)\n",
        "\n",
        "# 查詢: 查東西[key]\n",
        "print(scores[0])\n",
        "\n",
        "# print(scores[len(scores)-1])\n",
        "print(scores[-1])\n",
        "\n",
        "# 查詢一段\n",
        "print(scores[0:2])\n",
        "print(scores[:3])\n",
        "print(scores[3:])\n",
        "\n",
        "# 跳號\n",
        "print(scores[0:4:2])\n",
        "print(scores[::2])\n",
        "\n",
        "# 反向跳號(從又跳到左)\n",
        "print(scores[4:0:-2])"
      ],
      "metadata": {
        "colab": {
          "base_uri": "https://localhost:8080/"
        },
        "id": "sPc7fpth4av2",
        "outputId": "81f63878-5fe3-4d3f-815d-72c9dcb1dba5"
      },
      "execution_count": 29,
      "outputs": [
        {
          "output_type": "stream",
          "name": "stdout",
          "text": [
            "310 90 30 5\n",
            "True\n",
            "30\n",
            "90\n",
            "[30, 50]\n",
            "[30, 50, 80]\n",
            "[60, 90]\n",
            "[30, 80]\n",
            "[30, 80, 90]\n",
            "[90, 80]\n"
          ]
        }
      ]
    },
    {
      "cell_type": "markdown",
      "source": [
        "```python\n",
        "計算有幾人及格\n",
        "score = [80, 60, 90, 20, 100]\n",
        "```"
      ],
      "metadata": {
        "id": "x0Kx0lxd7iTO"
      }
    },
    {
      "cell_type": "code",
      "source": [
        "score = [80, 60, 90, 20, 100]\n",
        "\n",
        "i = 0\n",
        "count = 0\n",
        "while i < len(score):\n",
        "    if score[i] >=60:\n",
        "        count = count + 1\n",
        "    i = i + 1\n",
        "print(count)\n",
        "\n",
        "# 使用for...in...用法\n",
        "count = 0\n",
        "for s in score:\n",
        "    if s>= 60:\n",
        "        count = count + 1\n",
        "print(count)"
      ],
      "metadata": {
        "colab": {
          "base_uri": "https://localhost:8080/"
        },
        "id": "zTj4Ozjk7h-E",
        "outputId": "e2bd915d-58bf-4b5d-9687-ace94a99fa96"
      },
      "execution_count": 35,
      "outputs": [
        {
          "output_type": "stream",
          "name": "stdout",
          "text": [
            "4\n",
            "4\n"
          ]
        }
      ]
    },
    {
      "cell_type": "markdown",
      "source": [
        "```python\n",
        "從1加到10\n",
        "\n",
        "```"
      ],
      "metadata": {
        "id": "3sVCbR3R9myR"
      }
    },
    {
      "cell_type": "code",
      "source": [
        "total = 0\n",
        "for i in range(10):\n",
        "    total = total + (i+1)\n",
        "    print(total)"
      ],
      "metadata": {
        "colab": {
          "base_uri": "https://localhost:8080/"
        },
        "id": "7qrGFkDN9l1D",
        "outputId": "752aa853-937d-4839-e35c-5d16fab4ee15"
      },
      "execution_count": 39,
      "outputs": [
        {
          "output_type": "stream",
          "name": "stdout",
          "text": [
            "1\n",
            "3\n",
            "6\n",
            "10\n",
            "15\n",
            "21\n",
            "28\n",
            "36\n",
            "45\n",
            "55\n"
          ]
        }
      ]
    },
    {
      "cell_type": "markdown",
      "source": [
        "#**迴圈SOP**\n",
        "\n",
        "```python\n",
        "\n",
        "1.   走過群集(str/list...): for 名稱 in 群\n",
        "2.   固定次數型迴圈: for i in range(次)\n",
        "3.   其他條件迴圈: while (True + break)\n",
        "\n",
        "\n",
        "```"
      ],
      "metadata": {
        "id": "JOX7k5XVBFs4"
      }
    }
  ]
}