{
  "nbformat": 4,
  "nbformat_minor": 0,
  "metadata": {
    "colab": {
      "provenance": [],
      "authorship_tag": "ABX9TyPLg/52TxGU9SPpostxJpUb",
      "include_colab_link": true
    },
    "kernelspec": {
      "name": "python3",
      "display_name": "Python 3"
    },
    "language_info": {
      "name": "python"
    }
  },
  "cells": [
    {
      "cell_type": "markdown",
      "metadata": {
        "id": "view-in-github",
        "colab_type": "text"
      },
      "source": [
        "<a href=\"https://colab.research.google.com/github/feiii528/Tibame_T.Elwing/blob/main/241231_1.ipynb\" target=\"_parent\"><img src=\"https://colab.research.google.com/assets/colab-badge.svg\" alt=\"Open In Colab\"/></a>"
      ]
    },
    {
      "cell_type": "markdown",
      "source": [
        "# 迴圈第三part\n",
        "\n",
        "```python\n",
        "不限次數迴圈\n",
        "\n",
        "!!!while 後面自由寫\n",
        "```"
      ],
      "metadata": {
        "id": "44PDneoKR8ic"
      }
    },
    {
      "cell_type": "code",
      "execution_count": null,
      "metadata": {
        "colab": {
          "base_uri": "https://localhost:8080/"
        },
        "id": "BHJWmIinRgK-",
        "outputId": "dda449d5-2885-4e2a-c4c3-7f0d54d72548"
      },
      "outputs": [
        {
          "output_type": "stream",
          "name": "stdout",
          "text": [
            "輸(L)\n",
            "平手(E)\n",
            "平手(E)\n",
            "平手(E)\n",
            "平手(E)\n",
            "平手(E)\n",
            "贏(W)\n",
            "贏(W)\n",
            "贏(W)\n",
            "win:3, even:5, lose:1\n",
            "總體: WIN!\n"
          ]
        }
      ],
      "source": [
        "import random\n",
        "\n",
        "# 隨機一個整數 -1:輸 0:平手 1:贏\n",
        "\n",
        "trans = [\"輸(L)\", \"平手(E)\", \"贏(W)\"]\n",
        "\n",
        "win, even, lose = 0, 0, 0\n",
        "# 當我還沒贏3把，對手沒贏3把，則繼續玩\n",
        "while win < 3 and lose < 3:\n",
        "    result = random.randint(-1, 1)\n",
        "    print(trans[result+1])\n",
        "    if result == -1:\n",
        "        lose = lose + 1\n",
        "    elif result == 0:\n",
        "        even += 1\n",
        "    else:\n",
        "        win += 1\n",
        "\n",
        "print(f'win:{win}, even:{even}, lose:{lose}')\n",
        "if win > lose:\n",
        "    print(\"總體: WIN!\")\n",
        "else:\n",
        "    print(\"總體: LOSE!\")\n"
      ]
    },
    {
      "cell_type": "code",
      "source": [
        "# apl 沒有 在 apple 裡面\n",
        "print(not \"apl\" in \"apple\")"
      ],
      "metadata": {
        "colab": {
          "base_uri": "https://localhost:8080/"
        },
        "id": "0jTlbp3hWZqv",
        "outputId": "c63138ce-163a-4dab-db88-5cd61944a5f0"
      },
      "execution_count": null,
      "outputs": [
        {
          "output_type": "stream",
          "name": "stdout",
          "text": [
            "True\n"
          ]
        }
      ]
    },
    {
      "cell_type": "code",
      "source": [
        "import random\n",
        "\n",
        "# 隨機一個整數 -1: 輸 0: 平手 1: 贏\n",
        "\n",
        "trans = [\"輸(L)\", \"平手(E)\", \"贏(W)\"]\n",
        "\n",
        "win, even, lose = 0, 0, 0\n",
        "\n",
        "while True:\n",
        "    result = random.randint(-1, 1)\n",
        "    print(trans[result+1])\n",
        "    if result == -1:\n",
        "        lose = lose + 1\n",
        "    elif result == 0:\n",
        "        even = even + 1\n",
        "    elif result == 1:\n",
        "        win = win + 1\n",
        "\n",
        "    # 判斷改在這\n",
        "    # 1. 妳不用在while後面塞下所有條件, 甚至妳不用塞一堆and/or(地點自由)\n",
        "    # 2. 任意時間判斷(時間自由)\n",
        "    # 3. 是妳可以做完收尾工作才結束迴圈(流程自由)\n",
        "    # 4. 隱性好處: 有時候結束講中文會比較容易\n",
        "    if win >= 3:\n",
        "        print(\"總體: WIN\")\n",
        "        break\n",
        "    elif lose >= 3:\n",
        "        print(\"總體: LOSE\")\n",
        "        break"
      ],
      "metadata": {
        "id": "vMsEJgYlgxmM"
      },
      "execution_count": null,
      "outputs": []
    },
    {
      "cell_type": "code",
      "source": [
        "# 如果整除，要提早結束\n",
        "# 3 / 5 -> 0.6\n",
        "a, b = 3, 5\n",
        "ans = \"0.\"\n",
        "i = 0\n",
        "while True:\n",
        "    a10 = a * 10\n",
        "    ans = ans + str(a10 // b)\n",
        "    a = a10 % b\n",
        "    if a == 0:\n",
        "        print(ans)\n",
        "    break\n",
        "    i = i + 1"
      ],
      "metadata": {
        "colab": {
          "base_uri": "https://localhost:8080/"
        },
        "id": "tm56yQ9sh24H",
        "outputId": "611bb897-d089-4f74-9d9d-6958a519b3eb"
      },
      "execution_count": 20,
      "outputs": [
        {
          "output_type": "stream",
          "name": "stdout",
          "text": [
            "0.6\n"
          ]
        }
      ]
    },
    {
      "cell_type": "code",
      "source": [
        "# 50 / 7 -> 7.1428571428\n",
        "a, b = 50, 7\n",
        "ans = str(a//b) + \".\"\n",
        "a = a % b\n",
        "\n",
        "i = 0\n",
        "while i < 10:\n",
        "    a10 = a * 10\n",
        "    ans = ans + str(a10 // b)\n",
        "    print(ans)\n",
        "    a = a10 % b\n",
        "    if a == 0:\n",
        "        break\n",
        "    i = i + 1\n"
      ],
      "metadata": {
        "colab": {
          "base_uri": "https://localhost:8080/"
        },
        "id": "8KNyZl52i7hY",
        "outputId": "22f00348-62dd-4146-d02e-fe91ffa11b54"
      },
      "execution_count": 33,
      "outputs": [
        {
          "output_type": "stream",
          "name": "stdout",
          "text": [
            "7.1\n",
            "7.14\n",
            "7.142\n",
            "7.1428\n",
            "7.14285\n",
            "7.142857\n",
            "7.1428571\n",
            "7.14285714\n",
            "7.142857142\n",
            "7.1428571428\n"
          ]
        }
      ]
    }
  ]
}