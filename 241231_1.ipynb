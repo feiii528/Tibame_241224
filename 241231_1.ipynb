{
  "nbformat": 4,
  "nbformat_minor": 0,
  "metadata": {
    "colab": {
      "provenance": [],
      "authorship_tag": "ABX9TyPkRt+2eQclOS9FrWy7eoqS",
      "include_colab_link": true
    },
    "kernelspec": {
      "name": "python3",
      "display_name": "Python 3"
    },
    "language_info": {
      "name": "python"
    }
  },
  "cells": [
    {
      "cell_type": "markdown",
      "metadata": {
        "id": "view-in-github",
        "colab_type": "text"
      },
      "source": [
        "<a href=\"https://colab.research.google.com/github/feiii528/Tibame_T.Elwing/blob/main/241231_1.ipynb\" target=\"_parent\"><img src=\"https://colab.research.google.com/assets/colab-badge.svg\" alt=\"Open In Colab\"/></a>"
      ]
    },
    {
      "cell_type": "markdown",
      "source": [
        "# 迴圈第三part\n",
        "\n",
        "```python\n",
        "不限次數迴圈\n",
        "\n",
        "!!!while 後面自由寫\n",
        "```"
      ],
      "metadata": {
        "id": "44PDneoKR8ic"
      }
    },
    {
      "cell_type": "code",
      "execution_count": 5,
      "metadata": {
        "colab": {
          "base_uri": "https://localhost:8080/"
        },
        "id": "BHJWmIinRgK-",
        "outputId": "f5746429-c69f-41db-9f87-decca4059d13"
      },
      "outputs": [
        {
          "output_type": "stream",
          "name": "stdout",
          "text": [
            "平手(E)\n",
            "贏(W)\n",
            "贏(W)\n",
            "贏(W)\n",
            "win:3, even:1, lose:0\n"
          ]
        }
      ],
      "source": [
        "import random\n",
        "\n",
        "# 隨機一個整數 -1:輸 0:平手 1:贏\n",
        "\n",
        "trans = [\"輸(L)\", \"平手(E)\", \"贏(W)\"]\n",
        "\n",
        "win, even, lose = 0, 0, 0\n",
        "# 當我還沒贏3把，則繼續玩\n",
        "while win < 3:\n",
        "    result = random.randint(-1, 1)\n",
        "    print(trans[result+1])\n",
        "    if result == -1:\n",
        "        lose = lose + 1\n",
        "    elif result == 0:\n",
        "        even += 1\n",
        "    else:\n",
        "        win += 1\n",
        "print(f'win:{win}, even:{even}, lose:{lose}')\n",
        "#"
      ]
    }
  ]
}