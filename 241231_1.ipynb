{
  "nbformat": 4,
  "nbformat_minor": 0,
  "metadata": {
    "colab": {
      "provenance": [],
      "authorship_tag": "ABX9TyOKaQzrNTwKuOZPo8bvpoGQ",
      "include_colab_link": true
    },
    "kernelspec": {
      "name": "python3",
      "display_name": "Python 3"
    },
    "language_info": {
      "name": "python"
    }
  },
  "cells": [
    {
      "cell_type": "markdown",
      "metadata": {
        "id": "view-in-github",
        "colab_type": "text"
      },
      "source": [
        "<a href=\"https://colab.research.google.com/github/feiii528/Tibame_T.Elwing/blob/main/241231_1.ipynb\" target=\"_parent\"><img src=\"https://colab.research.google.com/assets/colab-badge.svg\" alt=\"Open In Colab\"/></a>"
      ]
    },
    {
      "cell_type": "markdown",
      "source": [
        "# 迴圈第三part\n",
        "\n",
        "```python\n",
        "不限次數迴圈\n",
        "\n",
        "!!!while 後面自由寫\n",
        "```"
      ],
      "metadata": {
        "id": "44PDneoKR8ic"
      }
    },
    {
      "cell_type": "code",
      "execution_count": null,
      "metadata": {
        "colab": {
          "base_uri": "https://localhost:8080/"
        },
        "id": "BHJWmIinRgK-",
        "outputId": "dda449d5-2885-4e2a-c4c3-7f0d54d72548"
      },
      "outputs": [
        {
          "output_type": "stream",
          "name": "stdout",
          "text": [
            "輸(L)\n",
            "平手(E)\n",
            "平手(E)\n",
            "平手(E)\n",
            "平手(E)\n",
            "平手(E)\n",
            "贏(W)\n",
            "贏(W)\n",
            "贏(W)\n",
            "win:3, even:5, lose:1\n",
            "總體: WIN!\n"
          ]
        }
      ],
      "source": [
        "import random\n",
        "\n",
        "# 隨機一個整數 -1:輸 0:平手 1:贏\n",
        "\n",
        "trans = [\"輸(L)\", \"平手(E)\", \"贏(W)\"]\n",
        "\n",
        "win, even, lose = 0, 0, 0\n",
        "# 當我還沒贏3把，對手沒贏3把，則繼續玩\n",
        "while win < 3 and lose < 3:\n",
        "    result = random.randint(-1, 1)\n",
        "    print(trans[result+1])\n",
        "    if result == -1:\n",
        "        lose = lose + 1\n",
        "    elif result == 0:\n",
        "        even += 1\n",
        "    else:\n",
        "        win += 1\n",
        "\n",
        "print(f'win:{win}, even:{even}, lose:{lose}')\n",
        "if win > lose:\n",
        "    print(\"總體: WIN!\")\n",
        "else:\n",
        "    print(\"總體: LOSE!\")\n"
      ]
    },
    {
      "cell_type": "code",
      "source": [
        "# apl 沒有 在 apple 裡面\n",
        "print(not \"apl\" in \"apple\")"
      ],
      "metadata": {
        "colab": {
          "base_uri": "https://localhost:8080/"
        },
        "id": "0jTlbp3hWZqv",
        "outputId": "c63138ce-163a-4dab-db88-5cd61944a5f0"
      },
      "execution_count": null,
      "outputs": [
        {
          "output_type": "stream",
          "name": "stdout",
          "text": [
            "True\n"
          ]
        }
      ]
    },
    {
      "cell_type": "code",
      "source": [
        "import random\n",
        "\n",
        "# 隨機一個整數 -1: 輸 0: 平手 1: 贏\n",
        "\n",
        "trans = [\"輸(L)\", \"平手(E)\", \"贏(W)\"]\n",
        "\n",
        "win, even, lose = 0, 0, 0\n",
        "\n",
        "while True:\n",
        "    result = random.randint(-1, 1)\n",
        "    print(trans[result+1])\n",
        "    if result == -1:\n",
        "        lose = lose + 1\n",
        "    elif result == 0:\n",
        "        even = even + 1\n",
        "    elif result == 1:\n",
        "        win = win + 1\n",
        "\n",
        "    # 判斷改在這\n",
        "    # 1. 妳不用在while後面塞下所有條件, 甚至妳不用塞一堆and/or(地點自由)\n",
        "    # 2. 任意時間判斷(時間自由)\n",
        "    # 3. 是妳可以做完收尾工作才結束迴圈(流程自由)\n",
        "    # 4. 隱性好處: 有時候結束講中文會比較容易\n",
        "    if win >= 3:\n",
        "        print(\"總體: WIN\")\n",
        "        break\n",
        "    elif lose >= 3:\n",
        "        print(\"總體: LOSE\")\n",
        "        break"
      ],
      "metadata": {
        "id": "vMsEJgYlgxmM"
      },
      "execution_count": null,
      "outputs": []
    },
    {
      "cell_type": "code",
      "source": [
        "# 如果整除，要提早結束\n",
        "# 3 / 5 -> 0.6\n",
        "a, b = 3, 5\n",
        "ans = \"0.\"\n",
        "i = 0\n",
        "while True:\n",
        "    a10 = a * 10\n",
        "    ans = ans + str(a10 // b)\n",
        "    a = a10 % b\n",
        "    if a == 0:\n",
        "        print(ans)\n",
        "    break\n",
        "    i = i + 1"
      ],
      "metadata": {
        "colab": {
          "base_uri": "https://localhost:8080/"
        },
        "id": "tm56yQ9sh24H",
        "outputId": "611bb897-d089-4f74-9d9d-6958a519b3eb"
      },
      "execution_count": 20,
      "outputs": [
        {
          "output_type": "stream",
          "name": "stdout",
          "text": [
            "0.6\n"
          ]
        }
      ]
    },
    {
      "cell_type": "code",
      "source": [
        "# 50 / 7 -> 7.1428571428\n",
        "a, b = 50, 7\n",
        "ans = str(a//b) + \".\"\n",
        "a = a % b\n",
        "\n",
        "i = 0\n",
        "while i < 10:\n",
        "    a10 = a * 10\n",
        "    ans = ans + str(a10 // b)\n",
        "    # print(ans)\n",
        "    a = a10 % b\n",
        "    if a == 0:\n",
        "        break\n",
        "    i = i + 1\n",
        "print(ans)"
      ],
      "metadata": {
        "colab": {
          "base_uri": "https://localhost:8080/"
        },
        "id": "8KNyZl52i7hY",
        "outputId": "2d6e3414-4bf9-4f8d-9ab9-304714611c19"
      },
      "execution_count": 34,
      "outputs": [
        {
          "output_type": "stream",
          "name": "stdout",
          "text": [
            "7.1428571428\n"
          ]
        }
      ]
    },
    {
      "cell_type": "markdown",
      "source": [
        "# 完全平方日\n",
        "```python\n",
        "4499 ** 2 -> 20241001(O)\n",
        "4497 ** 2 -> 20223009(x)\n",
        "\n",
        "\n",
        "目標: 給妳隨便一個日期, 幫我往後出10個完全平方日\n",
        "\n",
        "1. 某個日期是不是合理\n",
        "閏年寫法1\n",
        "if year % 400 == 0:\n",
        "    month_day = month_day + 1\n",
        "elif year % 100 == 0:\n",
        "    pass\n",
        "elif year % 4 == 0:\n",
        "    month_day = month_day + 1\n",
        "\n",
        "閏年寫法2\n",
        "if year % 4 == 0:\n",
        "    if year % 100 == 0:\n",
        "        if year % 400 == 0:\n",
        "            month_day = month_day + 1\n",
        "        else:\n",
        "            pass\n",
        "    else:\n",
        "        month_day = month_day + 1\n",
        "else:\n",
        "    pass\n",
        "\n",
        "閏年寫法3\n",
        "if year % 4 == 0:\n",
        "    month_day = month_day + 1\n",
        "if year % 100 == 0:\n",
        "    month_day = month_day - 1\n",
        "\n",
        "\n",
        "\n",
        "!!! 應該要考慮的是 過了很久以後 3100年以後又差了一天\n",
        "!!! 這想起來是符合潤的邏輯的, 以目前的計算方式, 每過多少年會多一天/少一天\n",
        "\n",
        "\n",
        "發覺每四年少一天\n",
        "-> 每過四年 2月多加一天\n",
        "-> 建立在上面條件上, 當我在80年的時候 我又會多一天了(扣1)\n",
        "\n",
        "\n",
        "\n",
        "!!! 本來閏年可能是第三種, 但這樣太難想了, 所以閏年邏輯已經被轉變成第一種了, 每一個情況一定是之前情況的包含!!!\n",
        "```"
      ],
      "metadata": {
        "id": "YITCkZlvT4CX"
      }
    },
    {
      "cell_type": "markdown",
      "source": [
        "# 自訂功能\n",
        "```python\n",
        "def 功能名(參數):\n",
        "    很多事\n",
        "    return 回傳值\n",
        "\n",
        "!!! 定義參數的時候只是先給個代號\n",
        "!!! 如果你不寫return, 就是沒回傳值\n",
        "!!! 如果你沒有參數, ()還是要打\n",
        "```"
      ],
      "metadata": {
        "id": "FpANXxFPTsU_"
      }
    },
    {
      "cell_type": "code",
      "source": [
        "n = 20000229\n",
        "last4 = n % 10000\n",
        "year = n // 10000\n",
        "month = last4 // 100\n",
        "day = last4 % 100\n",
        "print(year, month, day)\n",
        "\n",
        "max_days = [31, 28, 31, 30, 31, 30, 31, 31, 30, 31, 30, 31]\n",
        "if 1 <= month <= 12:\n",
        "    # \"month-1\" 是因為要從0開始數，但月份是從1開始數\n",
        "    month_day = max_days[month-1]\n",
        "    # 考慮閏年\n",
        "    if month == 2:\n",
        "        # 若有符合 4年要再加1\n",
        "        # 若有符合100年要再減1\n",
        "        # 若有符合400年要再加1\n",
        "        if year % 4 == 0:\n",
        "            month_day = month_day + 1\n",
        "        if year % 100 == 0:\n",
        "            month_day = month_day - 1\n",
        "        if year % 400 == 0:\n",
        "            month_day = month_day + 1\n",
        "\n",
        "    if 1 <= day <= month_day:\n",
        "        print(\"合理\")\n",
        "    else:\n",
        "        print(\"不合理日期(天)\")\n",
        "else:\n",
        "    print(\"不合理日期(月)\")\n"
      ],
      "metadata": {
        "colab": {
          "base_uri": "https://localhost:8080/"
        },
        "id": "uf5XZ6iAlVAd",
        "outputId": "d2d11f6b-0fa2-43b2-b9a3-b67e1ff1326e"
      },
      "execution_count": 70,
      "outputs": [
        {
          "output_type": "stream",
          "name": "stdout",
          "text": [
            "2000 2 29\n",
            "合理\n"
          ]
        }
      ]
    },
    {
      "cell_type": "code",
      "source": [
        "# n = 19800229\n",
        "# n = 20000229\n",
        "# n = 30000229\n",
        "\n",
        "def is_leap_year(y):\n",
        "    if y % 400 == 0:\n",
        "        return True\n",
        "    elif y % 100 == 0:\n",
        "        return False\n",
        "    elif y % 4 == 0:\n",
        "        return True\n",
        "    else:\n",
        "        return False\n",
        "\n",
        "def is_valid_date(n):\n",
        "    year = n // 10000\n",
        "    last4 = n % 10000\n",
        "    day = last4 % 100\n",
        "    month = last4 // 100\n",
        "    # print(year, month, day)\n",
        "\n",
        "    max_days = [31, 28, 31, 30, 31, 30, 31, 31, 30, 31, 30, 31]\n",
        "    if 1 <= month <= 12:\n",
        "        month_day = max_days[month-1]\n",
        "        # 考慮閏年\n",
        "        if month == 2 and is_leap_year(year) == True:\n",
        "            month_day = month_day + 1\n",
        "        if 1 <= day <= month_day:\n",
        "            # print(\"合理\")\n",
        "            return True\n",
        "        else:\n",
        "            # print(\"不合理日期(天)\")\n",
        "            return False\n",
        "    else:\n",
        "        # print(\"不合理日期(月)\")\n",
        "        return False\n",
        "\n",
        "# print(is_valid_date(19800229))\n",
        "# print(is_valid_date(20000229))\n",
        "# print(is_valid_date(30000229))\n",
        "\n",
        "# 正面: 把真實的日期拿出來，檢查她可以不可以被開根號\n",
        "# 反面: 先拿值出來，平方，看這個平方過後的東西可不可以當日期(O)\n",
        "import math\n",
        "today = 20241231\n",
        "start = math.ceil(today ** 0.5)\n",
        "count = 0\n",
        "while True:\n",
        "    aaa = start ** 2\n",
        "    if is_valid_date(aaa) == True:\n",
        "        print(start, aaa, \"是個完全平方日\")\n",
        "        count = count + 1\n",
        "    if count == 10:\n",
        "        break\n",
        "    else:\n",
        "        start = start + 1"
      ],
      "metadata": {
        "colab": {
          "base_uri": "https://localhost:8080/"
        },
        "id": "0vdudrQ5SjSR",
        "outputId": "189b694f-9d58-4aed-a3f4-faba784304e5"
      },
      "execution_count": 92,
      "outputs": [
        {
          "output_type": "stream",
          "name": "stdout",
          "text": [
            "4552 20720704 是個完全平方日\n",
            "4575 20930625 是個完全平方日\n",
            "4599 21150801 是個完全平方日\n",
            "4625 21390625 是個完全平方日\n",
            "4639 21520321 是個完全平方日\n",
            "4652 21641104 是個完全平方日\n",
            "4653 21650409 是個完全平方日\n",
            "4668 21790224 是個完全平方日\n",
            "4682 21921124 是個完全平方日\n",
            "4698 22071204 是個完全平方日\n"
          ]
        }
      ]
    }
  ]
}