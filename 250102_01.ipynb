{
  "nbformat": 4,
  "nbformat_minor": 0,
  "metadata": {
    "colab": {
      "provenance": [],
      "authorship_tag": "ABX9TyN0ms2rextWE13UV1Ek3LdF",
      "include_colab_link": true
    },
    "kernelspec": {
      "name": "python3",
      "display_name": "Python 3"
    },
    "language_info": {
      "name": "python"
    }
  },
  "cells": [
    {
      "cell_type": "markdown",
      "metadata": {
        "id": "view-in-github",
        "colab_type": "text"
      },
      "source": [
        "<a href=\"https://colab.research.google.com/github/feiii528/Tibame_T.Elwing/blob/main/250102_01.ipynb\" target=\"_parent\"><img src=\"https://colab.research.google.com/assets/colab-badge.svg\" alt=\"Open In Colab\"/></a>"
      ]
    },
    {
      "cell_type": "markdown",
      "source": [
        "```python\n",
        "!告訴你 你目前看到是什麼型態\n",
        "content-type:\n",
        "application/vnd.yt-ump\n",
        "\n",
        "聲音: mime=audio\n",
        "影片: mime=video\n",
        "畫值: 360P,rn=35基本畫值 1080P,rn=126高畫質\n",
        "\n",
        "刪掉:\n",
        "   1. &ump=1\n",
        "   2. &range=0-(最後的數字)\n",
        "```"
      ],
      "metadata": {
        "id": "nuHB7edy0hHI"
      }
    },
    {
      "cell_type": "code",
      "execution_count": null,
      "metadata": {
        "id": "TNiksY7Jhj9f"
      },
      "outputs": [],
      "source": []
    }
  ]
}