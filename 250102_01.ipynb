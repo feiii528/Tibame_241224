{
  "nbformat": 4,
  "nbformat_minor": 0,
  "metadata": {
    "colab": {
      "provenance": [],
      "authorship_tag": "ABX9TyNX0IAOLvncXvK2WJE2BxXZ",
      "include_colab_link": true
    },
    "kernelspec": {
      "name": "python3",
      "display_name": "Python 3"
    },
    "language_info": {
      "name": "python"
    }
  },
  "cells": [
    {
      "cell_type": "markdown",
      "metadata": {
        "id": "view-in-github",
        "colab_type": "text"
      },
      "source": [
        "<a href=\"https://colab.research.google.com/github/feiii528/Tibame_T.Elwing/blob/main/250102_01.ipynb\" target=\"_parent\"><img src=\"https://colab.research.google.com/assets/colab-badge.svg\" alt=\"Open In Colab\"/></a>"
      ]
    },
    {
      "cell_type": "markdown",
      "source": [
        "```python\n",
        "!告訴你 你目前看到是什麼型態\n",
        "content-type:\n",
        "application/vnd.yt-ump\n",
        "\n",
        "聲音: mime=audio\n",
        "影片: mime=video\n",
        "畫值: 360P,rn=35基本畫值 1080P,rn=126高畫質\n",
        "\n",
        "刪掉:\n",
        "   1. &ump=1\n",
        "   2. &range=0-(最後的數字)\n",
        "\n",
        "!!!\n",
        "Youtube\n",
        "WIN: https://drive.google.com/file/d/1NG1jLgtNSMA8Gu_WKtfpa7a7sOsXoRiI/view?usp=sharing\n",
        "MAC: https://drive.google.com/file/d/1jeMX_L6j4iINj9f9pRXyddxeHPuLkQJu/view?usp=sharing\n",
        "指令: ffmpeg.exe -i 聲音 -i 影片 out.mp4\n",
        "\n",
        "BAHA\n",
        "WIN: -headers \"Origin: https://ani.gamer.com.tw\" -i \"\" anime.mp4\n",
        "MAC: -headers 'Origin: https://ani.gamer.com.tw' -i '' anime.mp4\n",
        "!!!\n",
        "\n",
        "合併:\n",
        "1. 使用 FFQueue 應用程式\n",
        "2. 使用 命令提示字元(cmd) cd (你要存放的位置)\n",
        "\"C:\\Users\\ASUS\\Desktop\\online\\250102_Python\\FFQueue_1_7_56\\ffmpeg.exe\" -i \"你要的影片\" -i \"你要的聲音\" (輸入你要的名稱.mp4)\n",
        "\n",
        "\n",
        "```"
      ],
      "metadata": {
        "id": "nuHB7edy0hHI"
      }
    },
    {
      "cell_type": "code",
      "execution_count": null,
      "metadata": {
        "id": "TNiksY7Jhj9f"
      },
      "outputs": [],
      "source": []
    }
  ]
}