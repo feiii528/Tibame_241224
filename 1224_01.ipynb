{
  "nbformat": 4,
  "nbformat_minor": 0,
  "metadata": {
    "colab": {
      "provenance": [],
      "authorship_tag": "ABX9TyPC2/c1gzhXIIFV5uivmSTq",
      "include_colab_link": true
    },
    "kernelspec": {
      "name": "python3",
      "display_name": "Python 3"
    },
    "language_info": {
      "name": "python"
    }
  },
  "cells": [
    {
      "cell_type": "markdown",
      "metadata": {
        "id": "view-in-github",
        "colab_type": "text"
      },
      "source": [
        "<a href=\"https://colab.research.google.com/github/feiii528/Tibame_241224/blob/main/1224_01.ipynb\" target=\"_parent\"><img src=\"https://colab.research.google.com/assets/colab-badge.svg\" alt=\"Open In Colab\"/></a>"
      ]
    },
    {
      "cell_type": "markdown",
      "source": [
        "Latex Math\n",
        "\n",
        "$ a = \\sum_{i=0}^{n} \\frac{1}{n+1} $\n",
        "\n",
        "IndentationError指的是縮排問題\n",
        "\n"
      ],
      "metadata": {
        "id": "UcDF9j8rhVxm"
      }
    },
    {
      "cell_type": "code",
      "execution_count": 15,
      "metadata": {
        "colab": {
          "base_uri": "https://localhost:8080/"
        },
        "id": "PqxmHxucbRb0",
        "outputId": "65f7b45f-43fb-4090-966b-f09a755a8d0a"
      },
      "outputs": [
        {
          "output_type": "stream",
          "name": "stdout",
          "text": [
            "請輸入體重:80\n",
            "請輸入身高:155\n",
            "你的體重是:80.0\n",
            "你的身高是:155.0\n",
            "你的bmi是:33.29864724245577\n",
            "過重\n",
            "少吃多動\n"
          ]
        }
      ],
      "source": [
        "# bmi = weight(kg) / height(m) ^ 2\n",
        "weight = float(input(\"請輸入體重:\"))\n",
        "height = float(input(\"請輸入身高:\"))\n",
        "bmi = weight / (height / 100) ** 2\n",
        "print(\"你的體重是:\" + str(weight))\n",
        "print(\"你的身高是:\" + str(height))\n",
        "print(\"你的bmi是:\" + str(bmi))\n",
        "\n",
        "if bmi > 25:\n",
        "  print(\"過重\")\n",
        "  print(\"少吃多動\")\n",
        "else:\n",
        "  print(\"正常\")"
      ]
    }
  ]
}