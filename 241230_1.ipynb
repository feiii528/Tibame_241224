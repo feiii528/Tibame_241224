{
  "nbformat": 4,
  "nbformat_minor": 0,
  "metadata": {
    "colab": {
      "provenance": [],
      "authorship_tag": "ABX9TyM+BbjgP0ZNFqJS1ie+YWUV",
      "include_colab_link": true
    },
    "kernelspec": {
      "name": "python3",
      "display_name": "Python 3"
    },
    "language_info": {
      "name": "python"
    }
  },
  "cells": [
    {
      "cell_type": "markdown",
      "metadata": {
        "id": "view-in-github",
        "colab_type": "text"
      },
      "source": [
        "<a href=\"https://colab.research.google.com/github/feiii528/Tibame_T.Elwing/blob/main/241230_1.ipynb\" target=\"_parent\"><img src=\"https://colab.research.google.com/assets/colab-badge.svg\" alt=\"Open In Colab\"/></a>"
      ]
    },
    {
      "cell_type": "markdown",
      "source": [
        "# 迴圈\n",
        "\n",
        "```pyhton\n",
        "part1. 重複n次: 從0次數到n-1次\n",
        "10: 0 1 ... 9\n",
        "\n",
        "準備一個計數器\n",
        "1. 初始化: i = 0 (j -> m(潛規則))\n",
        "2. 判斷: i < 10\n",
        "3. 增加: i + 1\n",
        "\n",
        "i = 0\n",
        "while i < 10:\n",
        "    print(\"Hello\")\n",
        "    i = i + 1\n",
        "\n",
        "!!!好習慣: 這三行你絕對不改\n",
        "1. 次數就在 < 後面\n",
        "2. 數: 0 1 ... 次-1\n",
        "```"
      ],
      "metadata": {
        "id": "1JwQVaYcQBHz"
      }
    },
    {
      "cell_type": "code",
      "execution_count": 6,
      "metadata": {
        "colab": {
          "base_uri": "https://localhost:8080/"
        },
        "id": "c9fCO08xIGYG",
        "outputId": "a2963393-0829-40b7-c906-d3b6d6fb37c3"
      },
      "outputs": [
        {
          "output_type": "stream",
          "name": "stdout",
          "text": [
            "5 20 50\n",
            "12 19 47\n",
            "19 18 44\n",
            "26 17 41\n",
            "33 16 38\n",
            "40 15 35\n",
            "47 14 32\n",
            "54 13 29\n",
            "61 12 26\n",
            "68 11 23\n"
          ]
        }
      ],
      "source": [
        "i = 0\n",
        "while i < 10:\n",
        "    print(i * 7 + 5,\n",
        "       20 - i,\n",
        "       50 - 3 * i)\n",
        "    i = i + 1"
      ]
    },
    {
      "cell_type": "markdown",
      "source": [
        "```python\n",
        "ooooooo\n",
        ".ooooo.\n",
        "..ooo..\n",
        "...o...\n",
        "```"
      ],
      "metadata": {
        "id": "0tW1dMprk0JU"
      }
    },
    {
      "cell_type": "code",
      "source": [
        "# 2層->3 3層->5 4層->7 5層->9(5*2-1)\n",
        "# 2 * i ->因為每次都會少左右各一個\n",
        "height = 10\n",
        "lsymbol, msymbol, rsymbol = \" \", \"o\", \" \"\n",
        "i = 0\n",
        "while i < height:\n",
        "    lcount = i\n",
        "    mcount = (height * 2 - 1) - 2 * i\n",
        "    rcount = i\n",
        "    # 將前面輸入空白可先用\".\"代替\n",
        "    print(lsymbol * lcount +\n",
        "       msymbol * mcount +\n",
        "       rsymbol * rcount)\n",
        "    i = i + 1"
      ],
      "metadata": {
        "colab": {
          "base_uri": "https://localhost:8080/"
        },
        "id": "ia0t5xQzb5Oc",
        "outputId": "f3db86e8-4681-43e7-fe30-46844af14228"
      },
      "execution_count": 43,
      "outputs": [
        {
          "output_type": "stream",
          "name": "stdout",
          "text": [
            "ooooooooooooooooooo\n",
            " ooooooooooooooooo \n",
            "  ooooooooooooooo  \n",
            "   ooooooooooooo   \n",
            "    ooooooooooo    \n",
            "     ooooooooo     \n",
            "      ooooooo      \n",
            "       ooooo       \n",
            "        ooo        \n",
            "         o         \n"
          ]
        }
      ]
    },
    {
      "cell_type": "markdown",
      "source": [
        "```python\n",
        "ooooooo\n",
        ".xxxxx.\n",
        "..ooo..\n",
        "...x...\n",
        "```"
      ],
      "metadata": {
        "id": "cCemzCMLnMar"
      }
    },
    {
      "cell_type": "code",
      "source": [
        "height = 10\n",
        "i = 0\n",
        "while i < height:\n",
        "    # 奇數層: i = 0 2 4 6 8\n",
        "    if i % 2 == 0:\n",
        "        lsymbol, msymbol, rsymbol = \" \", \"o\", \" \"\n",
        "    # 偶數層: (% 2 == 1)\n",
        "    else:\n",
        "        lsymbol, msymbol, rsymbol = \" \", \"x\", \" \"\n",
        "    lcount = i\n",
        "    mcount = (height * 2 - 1) - 2 * i\n",
        "    rcount = i\n",
        "    # 將前面輸入空白可先用\".\"代替\n",
        "    print(lsymbol * lcount +\n",
        "       msymbol * mcount +\n",
        "       rsymbol * rcount)\n",
        "    i = i + 1"
      ],
      "metadata": {
        "colab": {
          "base_uri": "https://localhost:8080/"
        },
        "id": "UymppOAQnQS4",
        "outputId": "afbdbf0e-5f5f-4f3f-be3d-dd5d85507fb1"
      },
      "execution_count": 57,
      "outputs": [
        {
          "output_type": "stream",
          "name": "stdout",
          "text": [
            "ooooooooooooooooooo\n",
            " xxxxxxxxxxxxxxxxx \n",
            "  ooooooooooooooo  \n",
            "   xxxxxxxxxxxxx   \n",
            "    ooooooooooo    \n",
            "     xxxxxxxxx     \n",
            "      ooooooo      \n",
            "       xxxxx       \n",
            "        ooo        \n",
            "         x         \n"
          ]
        }
      ]
    },
    {
      "cell_type": "code",
      "source": [
        "symbols = [\"\\u2660\", \"\\u2661\", \"\\u2662\", \"\\u2663\"]\n",
        "height = 10\n",
        "lsymbol, msymbol, rsymbol = \" \", \"o\", \" \"\n",
        "i = 0\n",
        "while i < height:\n",
        "    # 符號\n",
        "    lsymbol = \" \"\n",
        "    msymbol = symbols[i%len(symbols)]\n",
        "    rsymbol = \" \"\n",
        "    # 數目\n",
        "    lcount = i\n",
        "    mcount = (height * 2 - 1) - 2 * i\n",
        "    rcount = i\n",
        "    # 將前面輸入空白可先用\".\"代替\n",
        "    print(lsymbol * lcount +\n",
        "       msymbol * mcount +\n",
        "       rsymbol * rcount)\n",
        "    i = i + 1"
      ],
      "metadata": {
        "colab": {
          "base_uri": "https://localhost:8080/"
        },
        "id": "BUdHyfE1r_YC",
        "outputId": "b3e0f8f6-7010-4c49-8937-5c2b3a94b88f"
      },
      "execution_count": 56,
      "outputs": [
        {
          "output_type": "stream",
          "name": "stdout",
          "text": [
            "♠♠♠♠♠♠♠♠♠♠♠♠♠♠♠♠♠♠♠\n",
            " ♡♡♡♡♡♡♡♡♡♡♡♡♡♡♡♡♡ \n",
            "  ♢♢♢♢♢♢♢♢♢♢♢♢♢♢♢  \n",
            "   ♣♣♣♣♣♣♣♣♣♣♣♣♣   \n",
            "    ♠♠♠♠♠♠♠♠♠♠♠    \n",
            "     ♡♡♡♡♡♡♡♡♡     \n",
            "      ♢♢♢♢♢♢♢      \n",
            "       ♣♣♣♣♣       \n",
            "        ♠♠♠        \n",
            "         ♡         \n"
          ]
        }
      ]
    }
  ]
}