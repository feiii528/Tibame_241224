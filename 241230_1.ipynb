{
  "nbformat": 4,
  "nbformat_minor": 0,
  "metadata": {
    "colab": {
      "provenance": [],
      "authorship_tag": "ABX9TyMbtIAsnfC97NaIsCYapl9R",
      "include_colab_link": true
    },
    "kernelspec": {
      "name": "python3",
      "display_name": "Python 3"
    },
    "language_info": {
      "name": "python"
    }
  },
  "cells": [
    {
      "cell_type": "markdown",
      "metadata": {
        "id": "view-in-github",
        "colab_type": "text"
      },
      "source": [
        "<a href=\"https://colab.research.google.com/github/feiii528/Tibame_T.Elwing/blob/main/241230_1.ipynb\" target=\"_parent\"><img src=\"https://colab.research.google.com/assets/colab-badge.svg\" alt=\"Open In Colab\"/></a>"
      ]
    },
    {
      "cell_type": "markdown",
      "source": [
        "# 迴圈\n",
        "\n",
        "```pyhton\n",
        "part1. 重複n次: 從0次數到n-1次\n",
        "10: 0 1 ... 9\n",
        "\n",
        "準備一個計數器\n",
        "1. 初始化: i = 0 (j -> m(潛規則))\n",
        "2. 判斷: i < 10\n",
        "3. 增加: i + 1\n",
        "\n",
        "i = 0\n",
        "while i < 10:\n",
        "    print(\"Hello\")\n",
        "    i = i + 1\n",
        "\n",
        "!!!好習慣: 這三行你絕對不改\n",
        "1. 次數就在 < 後面\n",
        "2. 數: 0 1 ... 次-1\n",
        "```"
      ],
      "metadata": {
        "id": "1JwQVaYcQBHz"
      }
    },
    {
      "cell_type": "code",
      "execution_count": 6,
      "metadata": {
        "colab": {
          "base_uri": "https://localhost:8080/"
        },
        "id": "c9fCO08xIGYG",
        "outputId": "a2963393-0829-40b7-c906-d3b6d6fb37c3"
      },
      "outputs": [
        {
          "output_type": "stream",
          "name": "stdout",
          "text": [
            "5 20 50\n",
            "12 19 47\n",
            "19 18 44\n",
            "26 17 41\n",
            "33 16 38\n",
            "40 15 35\n",
            "47 14 32\n",
            "54 13 29\n",
            "61 12 26\n",
            "68 11 23\n"
          ]
        }
      ],
      "source": [
        "i = 0\n",
        "while i < 10:\n",
        "    print(i * 7 + 5,\n",
        "       20 - i,\n",
        "       50 - 3 * i)\n",
        "    i = i + 1"
      ]
    },
    {
      "cell_type": "markdown",
      "source": [
        "```python\n",
        "ooooooo\n",
        ".ooooo.\n",
        "..ooo..\n",
        "...o...\n",
        "```"
      ],
      "metadata": {
        "id": "0tW1dMprk0JU"
      }
    },
    {
      "cell_type": "code",
      "source": [
        "# 2層->3 3層->5 4層->7 5層->9(5*2-1)\n",
        "# 2 * i ->因為每次都會少左右各一個\n",
        "height = 10\n",
        "lsymbol, msymbol, rsymbol = \" \", \"o\", \" \"\n",
        "i = 0\n",
        "while i < height:\n",
        "    lcount = i\n",
        "    mcount = (height * 2 - 1) - 2 * i\n",
        "    rcount = i\n",
        "    # 將前面輸入空白可先用\".\"代替\n",
        "    print(lsymbol * lcount +\n",
        "       msymbol * mcount +\n",
        "       rsymbol * rcount)\n",
        "    i = i + 1"
      ],
      "metadata": {
        "colab": {
          "base_uri": "https://localhost:8080/"
        },
        "id": "ia0t5xQzb5Oc",
        "outputId": "f3db86e8-4681-43e7-fe30-46844af14228"
      },
      "execution_count": 43,
      "outputs": [
        {
          "output_type": "stream",
          "name": "stdout",
          "text": [
            "ooooooooooooooooooo\n",
            " ooooooooooooooooo \n",
            "  ooooooooooooooo  \n",
            "   ooooooooooooo   \n",
            "    ooooooooooo    \n",
            "     ooooooooo     \n",
            "      ooooooo      \n",
            "       ooooo       \n",
            "        ooo        \n",
            "         o         \n"
          ]
        }
      ]
    },
    {
      "cell_type": "markdown",
      "source": [
        "```python\n",
        "ooooooo\n",
        ".xxxxx.\n",
        "..ooo..\n",
        "...x...\n",
        "```"
      ],
      "metadata": {
        "id": "cCemzCMLnMar"
      }
    },
    {
      "cell_type": "code",
      "source": [
        "height = 10\n",
        "i = 0\n",
        "while i < height:\n",
        "    # 奇數層: i = 0 2 4 6 8\n",
        "    if i % 2 == 0:\n",
        "        lsymbol, msymbol, rsymbol = \" \", \"o\", \" \"\n",
        "    # 偶數層: (% 2 == 1)\n",
        "    else:\n",
        "        lsymbol, msymbol, rsymbol = \" \", \"x\", \" \"\n",
        "    lcount = i\n",
        "    mcount = (height * 2 - 1) - 2 * i\n",
        "    rcount = i\n",
        "    # 將前面輸入空白可先用\".\"代替\n",
        "    print(lsymbol * lcount +\n",
        "       msymbol * mcount +\n",
        "       rsymbol * rcount)\n",
        "    i = i + 1"
      ],
      "metadata": {
        "colab": {
          "base_uri": "https://localhost:8080/"
        },
        "id": "UymppOAQnQS4",
        "outputId": "afbdbf0e-5f5f-4f3f-be3d-dd5d85507fb1"
      },
      "execution_count": 57,
      "outputs": [
        {
          "output_type": "stream",
          "name": "stdout",
          "text": [
            "ooooooooooooooooooo\n",
            " xxxxxxxxxxxxxxxxx \n",
            "  ooooooooooooooo  \n",
            "   xxxxxxxxxxxxx   \n",
            "    ooooooooooo    \n",
            "     xxxxxxxxx     \n",
            "      ooooooo      \n",
            "       xxxxx       \n",
            "        ooo        \n",
            "         x         \n"
          ]
        }
      ]
    },
    {
      "cell_type": "code",
      "source": [
        "# 從 unicode 特殊符號去選相對的符號(https://home.gamer.com.tw/creationDetail.php?sn=129149)\n",
        "symbols = [\"\\u2660\", \"\\u2661\", \"\\u2662\", \"\\u2663\"]\n",
        "height = 10\n",
        "i = 0\n",
        "while i < height:\n",
        "    # 符號\n",
        "    lsymbol = \" \"\n",
        "    msymbol = symbols[i%len(symbols)]\n",
        "    rsymbol = \" \"\n",
        "    # 數目\n",
        "    lcount = i\n",
        "    mcount = (height * 2 - 1) - 2 * i\n",
        "    rcount = i\n",
        "    # 將前面輸入空白可先用\".\"代替\n",
        "    print(lsymbol * lcount +\n",
        "       msymbol * mcount +\n",
        "       rsymbol * rcount)\n",
        "    i = i + 1"
      ],
      "metadata": {
        "colab": {
          "base_uri": "https://localhost:8080/"
        },
        "id": "BUdHyfE1r_YC",
        "outputId": "6132f122-835b-46a7-bf4c-bf90d7aaf537"
      },
      "execution_count": 58,
      "outputs": [
        {
          "output_type": "stream",
          "name": "stdout",
          "text": [
            "♠♠♠♠♠♠♠♠♠♠♠♠♠♠♠♠♠♠♠\n",
            " ♡♡♡♡♡♡♡♡♡♡♡♡♡♡♡♡♡ \n",
            "  ♢♢♢♢♢♢♢♢♢♢♢♢♢♢♢  \n",
            "   ♣♣♣♣♣♣♣♣♣♣♣♣♣   \n",
            "    ♠♠♠♠♠♠♠♠♠♠♠    \n",
            "     ♡♡♡♡♡♡♡♡♡     \n",
            "      ♢♢♢♢♢♢♢      \n",
            "       ♣♣♣♣♣       \n",
            "        ♠♠♠        \n",
            "         ♡         \n"
          ]
        }
      ]
    },
    {
      "cell_type": "markdown",
      "source": [
        "# 迴圈第二part\n",
        "\n",
        "```python\n",
        "有記憶體的迴圈 - 記憶體要取個名字，放在迴圈外面\n",
        "!!! 拒絕跳躍性思考\n",
        "\n",
        "```"
      ],
      "metadata": {
        "id": "p0KTY6sWFwfz"
      }
    },
    {
      "cell_type": "code",
      "source": [
        "total = 0\n",
        "\n",
        "i = 0\n",
        "while i < 10:\n",
        "    total = total + (i + 1)\n",
        "    print(total)\n",
        "    i = i + 1"
      ],
      "metadata": {
        "colab": {
          "base_uri": "https://localhost:8080/"
        },
        "id": "OYweYN-3F4BF",
        "outputId": "3b5ac30f-a16e-40ac-cc6e-ccc86d30921a"
      },
      "execution_count": 61,
      "outputs": [
        {
          "output_type": "stream",
          "name": "stdout",
          "text": [
            "1\n",
            "3\n",
            "6\n",
            "10\n",
            "15\n",
            "21\n",
            "28\n",
            "36\n",
            "45\n",
            "55\n"
          ]
        }
      ]
    },
    {
      "cell_type": "markdown",
      "source": [
        "```python\n",
        "a = 2\n",
        "b = 7\n",
        "a / b = 0.2857142857\n",
        "\n",
        "```"
      ],
      "metadata": {
        "id": "hjZYbUZ_H-39"
      }
    },
    {
      "cell_type": "code",
      "source": [
        "a, b = 2, 7\n",
        "ans = \"0.\"\n",
        "i = 0\n",
        "while i < 10:\n",
        "    a = a * 10\n",
        "    ans = ans + str(a // b)\n",
        "    # 得出的餘，轉換成新的a\n",
        "    a = a % b\n",
        "    i = i + 1\n",
        "    print(ans)"
      ],
      "metadata": {
        "colab": {
          "base_uri": "https://localhost:8080/"
        },
        "id": "9mxvr53RH5T_",
        "outputId": "c516103b-1e75-495a-ad46-7101446425a0"
      },
      "execution_count": 65,
      "outputs": [
        {
          "output_type": "stream",
          "name": "stdout",
          "text": [
            "0.2\n",
            "0.28\n",
            "0.285\n",
            "0.2857\n",
            "0.28571\n",
            "0.285714\n",
            "0.2857142\n",
            "0.28571428\n",
            "0.285714285\n",
            "0.2857142857\n"
          ]
        }
      ]
    },
    {
      "cell_type": "code",
      "source": [
        "ord(\"A\")"
      ],
      "metadata": {
        "colab": {
          "base_uri": "https://localhost:8080/"
        },
        "id": "IjwkFG4BNf1z",
        "outputId": "c0e1b35f-1464-4bb0-8198-6c9131681c5a"
      },
      "execution_count": 66,
      "outputs": [
        {
          "output_type": "execute_result",
          "data": {
            "text/plain": [
              "65"
            ]
          },
          "metadata": {},
          "execution_count": 66
        }
      ]
    },
    {
      "cell_type": "code",
      "source": [
        "s = \"qhkAfhsklSksLljw,,kLafd2342sjlk23jfoie\"\n",
        "# 英文大小寫，統計出大寫多少個 小寫多少個\n",
        "lcase, ucase = 0, 0\n",
        "i = 0\n",
        "while i < len(s):\n",
        "    n = ord(s[i])\n",
        "    if ord(\"a\") <= n <= ord(\"z\"):\n",
        "        lcase = lcase + 1\n",
        "    elif ord(\"A\") <= n <= ord(\"Z\"):\n",
        "        ucase = ucase + 1\n",
        "    i = i + 1\n",
        "print(lcase, ucase)"
      ],
      "metadata": {
        "colab": {
          "base_uri": "https://localhost:8080/"
        },
        "id": "5DSizrWLNqCs",
        "outputId": "41a960ed-888f-4fc6-975c-9b6bdf9f0f85"
      },
      "execution_count": 71,
      "outputs": [
        {
          "output_type": "stream",
          "name": "stdout",
          "text": [
            "26 4\n"
          ]
        }
      ]
    },
    {
      "cell_type": "code",
      "source": [
        "s = \"qhkAfhsklSksLljw,,kLafd2342sjlk23jfoie\"\n",
        "# 英文大小寫，統計出每個字母多少個\n",
        "ucases = [0] * 26\n",
        "lcases = [0] * 26\n",
        "i = 0\n",
        "while i < len(s):\n",
        "    n = ord(s[i])\n",
        "    # 有介於A到Z有符合的就篩入\n",
        "    if ord(\"A\") <= n <= ord(\"Z\"):\n",
        "        # 65 - 90 -> 0 - 25(重新編碼至0開始)\n",
        "        n = n - ord(\"A\")\n",
        "        ucases[n] = ucases[n] + 1\n",
        "    elif ord(\"a\") <= n <= ord(\"z\"):\n",
        "        # 97 - 122 -> 0 - 25\n",
        "        n = n - ord(\"a\")\n",
        "        lcases[n] = lcases[n] + 1\n",
        "    i = i + 1\n",
        "print(ucases)\n",
        "print(lcases)\n",
        "\n",
        "# 印出26行\n",
        "# A: 5  a: 3\n",
        "# B: 2  b: 4\n",
        "# chr(97) -> \"a\" chr(65) -> \"A\"\n",
        "i = 0\n",
        "while i < len(ucases):\n",
        "    c1, c2 = chr(i + ord(\"A\")), chr(i + ord(\"a\"))\n",
        "    n1, n2 = ucases[i], lcases[i]\n",
        "    print(c1, n1, \"/\", c2, n2)\n",
        "    i = i + 1"
      ],
      "metadata": {
        "colab": {
          "base_uri": "https://localhost:8080/"
        },
        "id": "s0-PZa6kRrzm",
        "outputId": "adf1e821-e5f9-4920-d76b-219e6816085f"
      },
      "execution_count": 77,
      "outputs": [
        {
          "output_type": "stream",
          "name": "stdout",
          "text": [
            "[1, 0, 0, 1, 1, 3, 0, 2, 1, 3, 5, 3, 0, 0, 1, 0, 1, 0, 3, 0, 0, 0, 1, 0, 0, 0]\n",
            "[1, 0, 0, 0, 0, 0, 0, 0, 0, 0, 0, 2, 0, 0, 0, 0, 0, 0, 1, 0, 0, 0, 0, 0, 0, 0]\n",
            "A 1 / a 1\n",
            "B 0 / b 0\n",
            "C 0 / c 0\n",
            "D 0 / d 1\n",
            "E 0 / e 1\n",
            "F 0 / f 3\n",
            "G 0 / g 0\n",
            "H 0 / h 2\n",
            "I 0 / i 1\n",
            "J 0 / j 3\n",
            "K 0 / k 5\n",
            "L 2 / l 3\n",
            "M 0 / m 0\n",
            "N 0 / n 0\n",
            "O 0 / o 1\n",
            "P 0 / p 0\n",
            "Q 0 / q 1\n",
            "R 0 / r 0\n",
            "S 1 / s 3\n",
            "T 0 / t 0\n",
            "U 0 / u 0\n",
            "V 0 / v 0\n",
            "W 0 / w 1\n",
            "X 0 / x 0\n",
            "Y 0 / y 0\n",
            "Z 0 / z 0\n"
          ]
        }
      ]
    },
    {
      "cell_type": "markdown",
      "source": [
        "```python\n",
        "1. 把x分割100份，間格為2/100=0.02\n",
        "x = -1 + 0.02 * i\n",
        "2. 取得x座標位置的y高度\n",
        "y^2 = r^2 - x^2 = 1 - x^2\n",
        "\n",
        "圓方程式: x^2 + y^2 = r^2\n",
        "```"
      ],
      "metadata": {
        "id": "22KoLUZ9f3B6"
      }
    },
    {
      "cell_type": "code",
      "source": [
        "# x的最左邊座標和x的最右邊座標\n",
        "x_left, x_right = -1, 1\n",
        "# 分成幾份(100)\n",
        "part = 10000000\n",
        "# 每一part的多長\n",
        "interval = (x_right - x_left) / part\n",
        "\n",
        "# 總面積\n",
        "total = 0\n",
        "# 積分法: 把每一part的面積(小長方形)加總起來\n",
        "i = 0\n",
        "while i < part:\n",
        "    # 每一part的左x座標: -1 + 0.02 * i\n",
        "    x = x_left + interval * i\n",
        "    # 算出這裡的y座標多長: 2 * (1- x ^ 2) ^ 0.5\n",
        "    # *2 是因為上半圓跟下半圓\n",
        "    y = 2 * (1 - x ** 2) ** 0.5\n",
        "    # 每一part面積\n",
        "    area = interval * y\n",
        "    # 把每一part累積進去\n",
        "    total = total + area\n",
        "    i = i + 1\n",
        "print(\"積分法估算面積:\", total)"
      ],
      "metadata": {
        "colab": {
          "base_uri": "https://localhost:8080/"
        },
        "id": "f1OMNILFa4Hg",
        "outputId": "2de8879c-2990-4dc4-efa5-12243907c049"
      },
      "execution_count": 82,
      "outputs": [
        {
          "output_type": "stream",
          "name": "stdout",
          "text": [
            "積分法估算面積: 3.1415926534847225\n"
          ]
        }
      ]
    }
  ]
}