{
  "nbformat": 4,
  "nbformat_minor": 0,
  "metadata": {
    "colab": {
      "provenance": [],
      "authorship_tag": "ABX9TyNg3UtZV/t4UgHn+OrwKP9X",
      "include_colab_link": true
    },
    "kernelspec": {
      "name": "python3",
      "display_name": "Python 3"
    },
    "language_info": {
      "name": "python"
    }
  },
  "cells": [
    {
      "cell_type": "markdown",
      "metadata": {
        "id": "view-in-github",
        "colab_type": "text"
      },
      "source": [
        "<a href=\"https://colab.research.google.com/github/feiii528/Tibame_T.Elwing/blob/main/241230_1.ipynb\" target=\"_parent\"><img src=\"https://colab.research.google.com/assets/colab-badge.svg\" alt=\"Open In Colab\"/></a>"
      ]
    },
    {
      "cell_type": "markdown",
      "source": [
        "# 迴圈\n",
        "\n",
        "```pyhton\n",
        "part1. 重複n次: 從0次數到n-1次\n",
        "10: 0 1 ... 9\n",
        "\n",
        "準備一個計數器\n",
        "1. 初始化: i = 0 (j -> m(潛規則))\n",
        "2. 判斷: i < 10\n",
        "3. 增加: i + 1\n",
        "\n",
        "i = 0\n",
        "while i < 10:\n",
        "    print(\"Hello\")\n",
        "    i = i + 1\n",
        "\n",
        "!!!好習慣: 這三行你絕對不改\n",
        "1. 次數就在 < 後面\n",
        "2. 數: 0 1 ... 次-1\n",
        "```"
      ],
      "metadata": {
        "id": "1JwQVaYcQBHz"
      }
    },
    {
      "cell_type": "code",
      "execution_count": 6,
      "metadata": {
        "colab": {
          "base_uri": "https://localhost:8080/"
        },
        "id": "c9fCO08xIGYG",
        "outputId": "a2963393-0829-40b7-c906-d3b6d6fb37c3"
      },
      "outputs": [
        {
          "output_type": "stream",
          "name": "stdout",
          "text": [
            "5 20 50\n",
            "12 19 47\n",
            "19 18 44\n",
            "26 17 41\n",
            "33 16 38\n",
            "40 15 35\n",
            "47 14 32\n",
            "54 13 29\n",
            "61 12 26\n",
            "68 11 23\n"
          ]
        }
      ],
      "source": [
        "i = 0\n",
        "while i < 10:\n",
        "    print(i * 7 + 5,\n",
        "       20 - i,\n",
        "       50 - 3 * i)\n",
        "    i = i + 1"
      ]
    },
    {
      "cell_type": "markdown",
      "source": [
        "```python\n",
        "ooooooo\n",
        ".ooooo.\n",
        "..ooo..\n",
        "...o...\n",
        "```"
      ],
      "metadata": {
        "id": "0tW1dMprk0JU"
      }
    },
    {
      "cell_type": "code",
      "source": [
        "# 2層->3 3層->5 4層->7 5層->9(5*2-1)\n",
        "# 2 * i ->因為每次都會少左右各一個\n",
        "height = 10\n",
        "lsymbol, msymbol, rsymbol = \" \", \"o\", \" \"\n",
        "i = 0\n",
        "while i < height:\n",
        "    lcount = i\n",
        "    mcount = (height * 2 - 1) - 2 * i\n",
        "    rcount = i\n",
        "    # 將前面輸入空白可先用\".\"代替\n",
        "    print(lsymbol * lcount +\n",
        "       msymbol * mcount +\n",
        "       rsymbol * rcount)\n",
        "    i = i + 1"
      ],
      "metadata": {
        "colab": {
          "base_uri": "https://localhost:8080/"
        },
        "id": "ia0t5xQzb5Oc",
        "outputId": "f3db86e8-4681-43e7-fe30-46844af14228"
      },
      "execution_count": 43,
      "outputs": [
        {
          "output_type": "stream",
          "name": "stdout",
          "text": [
            "ooooooooooooooooooo\n",
            " ooooooooooooooooo \n",
            "  ooooooooooooooo  \n",
            "   ooooooooooooo   \n",
            "    ooooooooooo    \n",
            "     ooooooooo     \n",
            "      ooooooo      \n",
            "       ooooo       \n",
            "        ooo        \n",
            "         o         \n"
          ]
        }
      ]
    },
    {
      "cell_type": "markdown",
      "source": [
        "```python\n",
        "ooooooo\n",
        ".xxxxx.\n",
        "..ooo..\n",
        "...x...\n",
        "```"
      ],
      "metadata": {
        "id": "cCemzCMLnMar"
      }
    },
    {
      "cell_type": "code",
      "source": [
        "height = 10\n",
        "i = 0\n",
        "while i < height:\n",
        "    # 奇數層: i = 0 2 4 6 8\n",
        "    if i % 2 == 0:\n",
        "        lsymbol, msymbol, rsymbol = \" \", \"o\", \" \"\n",
        "    # 偶數層: (% 2 == 1)\n",
        "    else:\n",
        "        lsymbol, msymbol, rsymbol = \" \", \"x\", \" \"\n",
        "    lcount = i\n",
        "    mcount = (height * 2 - 1) - 2 * i\n",
        "    rcount = i\n",
        "    # 將前面輸入空白可先用\".\"代替\n",
        "    print(lsymbol * lcount +\n",
        "       msymbol * mcount +\n",
        "       rsymbol * rcount)\n",
        "    i = i + 1"
      ],
      "metadata": {
        "colab": {
          "base_uri": "https://localhost:8080/"
        },
        "id": "UymppOAQnQS4",
        "outputId": "afbdbf0e-5f5f-4f3f-be3d-dd5d85507fb1"
      },
      "execution_count": 57,
      "outputs": [
        {
          "output_type": "stream",
          "name": "stdout",
          "text": [
            "ooooooooooooooooooo\n",
            " xxxxxxxxxxxxxxxxx \n",
            "  ooooooooooooooo  \n",
            "   xxxxxxxxxxxxx   \n",
            "    ooooooooooo    \n",
            "     xxxxxxxxx     \n",
            "      ooooooo      \n",
            "       xxxxx       \n",
            "        ooo        \n",
            "         x         \n"
          ]
        }
      ]
    },
    {
      "cell_type": "code",
      "source": [
        "# 從 unicode 特殊符號去選相對的符號(https://home.gamer.com.tw/creationDetail.php?sn=129149)\n",
        "symbols = [\"\\u2660\", \"\\u2661\", \"\\u2662\", \"\\u2663\"]\n",
        "height = 10\n",
        "i = 0\n",
        "while i < height:\n",
        "    # 符號\n",
        "    lsymbol = \" \"\n",
        "    msymbol = symbols[i%len(symbols)]\n",
        "    rsymbol = \" \"\n",
        "    # 數目\n",
        "    lcount = i\n",
        "    mcount = (height * 2 - 1) - 2 * i\n",
        "    rcount = i\n",
        "    # 將前面輸入空白可先用\".\"代替\n",
        "    print(lsymbol * lcount +\n",
        "       msymbol * mcount +\n",
        "       rsymbol * rcount)\n",
        "    i = i + 1"
      ],
      "metadata": {
        "colab": {
          "base_uri": "https://localhost:8080/"
        },
        "id": "BUdHyfE1r_YC",
        "outputId": "6132f122-835b-46a7-bf4c-bf90d7aaf537"
      },
      "execution_count": 58,
      "outputs": [
        {
          "output_type": "stream",
          "name": "stdout",
          "text": [
            "♠♠♠♠♠♠♠♠♠♠♠♠♠♠♠♠♠♠♠\n",
            " ♡♡♡♡♡♡♡♡♡♡♡♡♡♡♡♡♡ \n",
            "  ♢♢♢♢♢♢♢♢♢♢♢♢♢♢♢  \n",
            "   ♣♣♣♣♣♣♣♣♣♣♣♣♣   \n",
            "    ♠♠♠♠♠♠♠♠♠♠♠    \n",
            "     ♡♡♡♡♡♡♡♡♡     \n",
            "      ♢♢♢♢♢♢♢      \n",
            "       ♣♣♣♣♣       \n",
            "        ♠♠♠        \n",
            "         ♡         \n"
          ]
        }
      ]
    },
    {
      "cell_type": "markdown",
      "source": [
        "# 迴圈第二part\n",
        "\n",
        "```python\n",
        "有記憶體的迴圈 - 記憶體要取個名字，放在迴圈外面\n",
        "!!! 拒絕跳躍性思考\n",
        "\n",
        "```"
      ],
      "metadata": {
        "id": "p0KTY6sWFwfz"
      }
    },
    {
      "cell_type": "code",
      "source": [
        "total = 0\n",
        "\n",
        "i = 0\n",
        "while i < 10:\n",
        "    total = total + (i + 1)\n",
        "    print(total)\n",
        "    i = i + 1"
      ],
      "metadata": {
        "colab": {
          "base_uri": "https://localhost:8080/"
        },
        "id": "OYweYN-3F4BF",
        "outputId": "3b5ac30f-a16e-40ac-cc6e-ccc86d30921a"
      },
      "execution_count": 61,
      "outputs": [
        {
          "output_type": "stream",
          "name": "stdout",
          "text": [
            "1\n",
            "3\n",
            "6\n",
            "10\n",
            "15\n",
            "21\n",
            "28\n",
            "36\n",
            "45\n",
            "55\n"
          ]
        }
      ]
    },
    {
      "cell_type": "markdown",
      "source": [
        "```python\n",
        "a = 2\n",
        "b = 7\n",
        "a / b = 0.2857142857\n",
        "\n",
        "```"
      ],
      "metadata": {
        "id": "hjZYbUZ_H-39"
      }
    },
    {
      "cell_type": "code",
      "source": [
        "a, b = 2, 7\n",
        "ans = \"0.\"\n",
        "i = 0\n",
        "while i < 10:\n",
        "    a = a * 10\n",
        "    ans = ans + str(a // b)\n",
        "    # 得出的餘，轉換成新的a\n",
        "    a = a % b\n",
        "    i = i + 1\n",
        "    print(ans)"
      ],
      "metadata": {
        "colab": {
          "base_uri": "https://localhost:8080/"
        },
        "id": "9mxvr53RH5T_",
        "outputId": "c516103b-1e75-495a-ad46-7101446425a0"
      },
      "execution_count": 65,
      "outputs": [
        {
          "output_type": "stream",
          "name": "stdout",
          "text": [
            "0.2\n",
            "0.28\n",
            "0.285\n",
            "0.2857\n",
            "0.28571\n",
            "0.285714\n",
            "0.2857142\n",
            "0.28571428\n",
            "0.285714285\n",
            "0.2857142857\n"
          ]
        }
      ]
    },
    {
      "cell_type": "code",
      "source": [
        "ord(\"A\")"
      ],
      "metadata": {
        "colab": {
          "base_uri": "https://localhost:8080/"
        },
        "id": "IjwkFG4BNf1z",
        "outputId": "c0e1b35f-1464-4bb0-8198-6c9131681c5a"
      },
      "execution_count": 66,
      "outputs": [
        {
          "output_type": "execute_result",
          "data": {
            "text/plain": [
              "65"
            ]
          },
          "metadata": {},
          "execution_count": 66
        }
      ]
    },
    {
      "cell_type": "code",
      "source": [
        "s = \"qhkAfhsklSksLljw,,kLafd2342sjlk23jfoie\"\n",
        "# 英文大小寫，統計出大寫多少個 小寫多少個\n",
        "lcase, ucase = 0, 0\n",
        "i = 0\n",
        "while i < len(s):\n",
        "    n = ord(s[i])\n",
        "    if ord(\"a\") <= n <= ord(\"z\"):\n",
        "        lcase = lcase + 1\n",
        "    elif ord(\"A\") <= n <= ord(\"Z\"):\n",
        "        ucase = ucase + 1\n",
        "    i = i + 1\n",
        "print(lcase, ucase)"
      ],
      "metadata": {
        "colab": {
          "base_uri": "https://localhost:8080/"
        },
        "id": "5DSizrWLNqCs",
        "outputId": "41a960ed-888f-4fc6-975c-9b6bdf9f0f85"
      },
      "execution_count": 71,
      "outputs": [
        {
          "output_type": "stream",
          "name": "stdout",
          "text": [
            "26 4\n"
          ]
        }
      ]
    },
    {
      "cell_type": "code",
      "source": [
        "s = \"qhkAfhsklSksLljw,,kLafd2342sjlk23jfoie\"\n",
        "# 英文大小寫，統計出每個字母多少個\n",
        "ucase = [0] * 26\n",
        "lcase = [0] * 26\n",
        "i = 0\n",
        "while i < len(s):\n",
        "    n = ord(s[i])\n",
        "    # 65 - 90\n",
        "    if ord(\"a\") <= n <= ord(\"z\"):\n",
        "        n = n - ord(\"a\")\n",
        "        lcase[n] = lcase[n] + 1\n",
        "    # 97 - 122\n",
        "    elif ord(\"A\") <= n <= ord(\"Z\"):\n",
        "        ucase[n - ord(\"A\")] = ucase[n - ord(\"A\")] + 1\n",
        "    i = i + 1\n",
        "print(lcase)\n",
        "print(ucase)"
      ],
      "metadata": {
        "colab": {
          "base_uri": "https://localhost:8080/"
        },
        "id": "s0-PZa6kRrzm",
        "outputId": "92cee2d9-8df0-445d-a1f2-05cc4d1efc1b"
      },
      "execution_count": 73,
      "outputs": [
        {
          "output_type": "stream",
          "name": "stdout",
          "text": [
            "[1, 0, 0, 1, 1, 3, 0, 2, 1, 3, 5, 3, 0, 0, 1, 0, 1, 0, 3, 0, 0, 0, 1, 0, 0, 0]\n",
            "[1, 0, 0, 0, 0, 0, 0, 0, 0, 0, 0, 2, 0, 0, 0, 0, 0, 0, 1, 0, 0, 0, 0, 0, 0, 0]\n"
          ]
        }
      ]
    }
  ]
}